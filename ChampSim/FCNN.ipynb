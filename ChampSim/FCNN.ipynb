{
 "cells": [
  {
   "cell_type": "code",
   "execution_count": 3,
   "metadata": {
    "id": "XG24WuGpGTyo"
   },
   "outputs": [],
   "source": [
    "import pandas as pd\n",
    "import numpy as np\n",
    "from sklearn.model_selection import train_test_split\n",
    "df = pd.read_csv(\"training.csv\")\n",
    "X = np.zeros((df.shape[0], df.shape[1]-1))\n",
    "X.shape\n",
    "for key, value in df.iterrows():\n",
    "  X[key,0] = int(value[0],16)\n",
    "  X[key,1] = int(value[1],16)\n",
    "\n",
    "y = df.iloc[:, 2].to_numpy()\n",
    "\n",
    "X_train, X_test, y_train, y_test = train_test_split(X, y, test_size=0.2)"
   ]
  },
  {
   "cell_type": "code",
   "execution_count": 11,
   "metadata": {
    "id": "FuKOteJrP-Rb"
   },
   "outputs": [],
   "source": [
    "from torch.utils.data import TensorDataset, DataLoader\n",
    "import torch\n",
    "from torch.autograd import Variable\n",
    "\n",
    "tensor_x = torch.Tensor(X_train) # transform to torch tensor\n",
    "tensor_y = torch.LongTensor(y_train)\n",
    "\n",
    "train_set = TensorDataset(tensor_x,tensor_y) # create your datset\n",
    "train_loader = DataLoader(train_set) # create your dataloader\n",
    "\n",
    "tensor_x = torch.Tensor(X_test) # transform to torch tensor\n",
    "tensor_y = torch.LongTensor(y_test)\n",
    "\n",
    "test_set = TensorDataset(tensor_x,tensor_y) # create your datset\n",
    "test_loader = DataLoader(test_set) # create your dataloader"
   ]
  },
  {
   "cell_type": "code",
   "execution_count": 8,
   "metadata": {
    "id": "VwFgeoIOOC75"
   },
   "outputs": [],
   "source": [
    "import torch.nn as nn\n",
    "import torch.nn.functional as F\n",
    "from torch import optim\n",
    "\n",
    "class Net(nn.Module):\n",
    "    def __init__(self, num_features, num_hidden):\n",
    "        super(Net, self).__init__()\n",
    "        self.fc1 = nn.Linear(num_features, num_hidden)\n",
    "        self.fc2 = nn.Linear(num_hidden, 3)\n",
    "\n",
    "    def forward(self, x):\n",
    "        x = F.relu(self.fc1(x))\n",
    "        x = self.fc2(x)\n",
    "        return F.log_softmax(x)\n",
    "\n",
    "fcn = Net(2, 10)"
   ]
  },
  {
   "cell_type": "code",
   "execution_count": 9,
   "metadata": {
    "id": "wmJToNxgPU6z"
   },
   "outputs": [],
   "source": [
    "# create a stochastic gradient descent optimizer\n",
    "learning_rate = 0.005\n",
    "\n",
    "optimizer = optim.SGD(fcn.parameters(), lr=learning_rate, momentum=0.9)\n",
    "\n",
    "# create a loss function\n",
    "criterion = nn.NLLLoss() # try? CrossEntropyLoss"
   ]
  },
  {
   "cell_type": "code",
   "execution_count": 12,
   "metadata": {
    "colab": {
     "base_uri": "https://localhost:8080/"
    },
    "id": "gtq7Ftc4Pq1G",
    "outputId": "5c0b950d-d4f3-47ea-f8e2-015e0cd54094"
   },
   "outputs": [
    {
     "name": "stderr",
     "output_type": "stream",
     "text": [
      "/usr/local/lib/python3.7/dist-packages/ipykernel_launcher.py:14: UserWarning: Implicit dimension choice for log_softmax has been deprecated. Change the call to include dim=X as an argument.\n",
      "  \n"
     ]
    },
    {
     "name": "stdout",
     "output_type": "stream",
     "text": [
      "Train Epoch:  0\n",
      "Train Epoch:  0\n",
      "Train Epoch:  0\n",
      "Train Epoch:  0\n",
      "Train Epoch:  0\n",
      "Train Epoch:  0\n",
      "Train Epoch:  1\n",
      "Train Epoch:  1\n",
      "Train Epoch:  1\n",
      "Train Epoch:  1\n",
      "Train Epoch:  1\n",
      "Train Epoch:  1\n",
      "Train Epoch:  2\n",
      "Train Epoch:  2\n",
      "Train Epoch:  2\n",
      "Train Epoch:  2\n",
      "Train Epoch:  2\n",
      "Train Epoch:  2\n",
      "Train Epoch:  3\n",
      "Train Epoch:  3\n",
      "Train Epoch:  3\n",
      "Train Epoch:  3\n",
      "Train Epoch:  3\n",
      "Train Epoch:  3\n",
      "Train Epoch:  4\n",
      "Train Epoch:  4\n",
      "Train Epoch:  4\n",
      "Train Epoch:  4\n",
      "Train Epoch:  4\n",
      "Train Epoch:  4\n"
     ]
    }
   ],
   "source": [
    "epochs = 5\n",
    "\n",
    "for epoch in range(epochs):\n",
    "    for batch_idx, (data, target) in enumerate(train_loader):\n",
    "        data, target = Variable(data), Variable(target)\n",
    "        optimizer.zero_grad()\n",
    "        net_out = fcn(data)\n",
    "        loss = criterion(net_out, target)\n",
    "        loss.backward()\n",
    "        optimizer.step()\n",
    "        if batch_idx % 1000 == 0:\n",
    "          print('Train Epoch: ', epoch) \n",
    "            # print('Train Epoch: {} [{}/{} ({:.0f}%)]\\tLoss: {:.6f}'.format(\n",
    "            #         epoch, batch_idx * len(data), len(train_loader.dataset),\n",
    "            #                100. * batch_idx / len(train_loader), loss.data[0]))"
   ]
  },
  {
   "cell_type": "code",
   "execution_count": 15,
   "metadata": {
    "colab": {
     "base_uri": "https://localhost:8080/"
    },
    "id": "Yg6ACoo6WWhk",
    "outputId": "e05b930d-0273-4ca7-94bf-07786b832d94"
   },
   "outputs": [
    {
     "name": "stderr",
     "output_type": "stream",
     "text": [
      "/usr/local/lib/python3.7/dist-packages/ipykernel_launcher.py:6: UserWarning: volatile was removed and now has no effect. Use `with torch.no_grad():` instead.\n",
      "  \n",
      "/usr/local/lib/python3.7/dist-packages/ipykernel_launcher.py:14: UserWarning: Implicit dimension choice for log_softmax has been deprecated. Change the call to include dim=X as an argument.\n",
      "  \n"
     ]
    },
    {
     "data": {
      "text/plain": [
       "tensor(0.6042)"
      ]
     },
     "execution_count": 15,
     "metadata": {},
     "output_type": "execute_result"
    }
   ],
   "source": [
    "# run a test loop\n",
    "test_loss = 0\n",
    "correct = 0\n",
    "y_pred = []\n",
    "for data, target in test_loader:\n",
    "    data, target = Variable(data, volatile=True), Variable(target)\n",
    "    net_out = fcn(data)\n",
    "    # sum up batch loss\n",
    "    # test_loss += criterion(net_out, target).data[0]\n",
    "\n",
    "    pred = net_out.data.max(1)[1]  # get the index of the max log-probability\n",
    "    y_pred.append(int(pred))\n",
    "    correct += pred.eq(target.data).sum()\n",
    "# test_loss /= len(test_loader.dataset)\n",
    "# print('\\nTest set: Average loss: {:.4f}, Accuracy: {}/{} ({:.0f}%)\\n'.format(\n",
    "#         test_loss, correct, len(test_loader.dataset),\n",
    "#         100. * correct / len(test_loader.dataset)))\n",
    "\n",
    "correct / len(test_loader.dataset)"
   ]
  },
  {
   "cell_type": "code",
   "execution_count": null,
   "metadata": {
    "id": "DexOXT1zRnGk"
   },
   "outputs": [],
   "source": [
    "y_pred"
   ]
  },
  {
   "cell_type": "code",
   "execution_count": 27,
   "metadata": {
    "colab": {
     "base_uri": "https://localhost:8080/",
     "height": 460
    },
    "id": "l7QbkOieRa2D",
    "outputId": "1ba1f2c7-3a26-4320-9c27-aa6f5e040490"
   },
   "outputs": [
    {
     "data": {
      "text/plain": [
       "[Text(42.0, 0.5, 'True Value'), Text(0.5, 42.0, 'Predicted Value')]"
      ]
     },
     "execution_count": 27,
     "metadata": {},
     "output_type": "execute_result"
    },
    {
     "data": {
      "image/png": "[encoded data removed]",
      "text/plain": [
       "<Figure size 504x504 with 2 Axes>"
      ]
     },
     "metadata": {
      "needs_background": "light"
     },
     "output_type": "display_data"
    }
   ],
   "source": [
    "import sklearn\n",
    "# from pandas_ml import ConfusionMatrix\n",
    "import matplotlib.pyplot as plt\n",
    "import seaborn as sn\n",
    "import pandas as pd\n",
    "\n",
    "confusion_matrix = sklearn.metrics.confusion_matrix(y_test, y_pred)\n",
    "df_cm = pd.DataFrame(confusion_matrix, index = [0,1,2], columns = [0,1,2])\n",
    "plt.figure(figsize = (7,7))\n",
    "s = sn.heatmap(df_cm, annot=True, fmt='g',cmap='Blues')\n",
    "s.set(xlabel='Predicted Value', ylabel='True Value')\n",
    "# tensor(0.6139)\n",
    "\n"
   ]
  },
  {
   "cell_type": "markdown",
   "metadata": {
    "id": "pzDWJwVDN_ZR"
   },
   "source": [
    "## TODO: LSTM\n"
   ]
  },
  {
   "cell_type": "code",
   "execution_count": null,
   "metadata": {
    "id": "qm6CY-LrFN7v"
   },
   "outputs": [],
   "source": [
    "import torch\n",
    "import torch.nn as nn\n",
    "from torch.autograd import Variable \n",
    "\n",
    "class LSTM1(nn.Module):\n",
    "    def __init__(self, num_classes, input_size, hidden_size, num_layers, seq_length):\n",
    "        super(LSTM1, self).__init__()\n",
    "        self.num_classes = num_classes #number of classes\n",
    "        self.num_layers = num_layers #number of layers\n",
    "        self.input_size = input_size #input size\n",
    "        self.hidden_size = hidden_size #hidden state\n",
    "        self.seq_length = seq_length #sequence length\n",
    "\n",
    "        self.lstm = nn.LSTM(input_size=input_size, hidden_size=hidden_size,\n",
    "                          num_layers=num_layers, batch_first=True) #lstm\n",
    "        self.fc_1 =  nn.Linear(hidden_size, 128) #fully connected 1\n",
    "        self.fc = nn.Linear(128, num_classes) #fully connected last layer\n",
    "\n",
    "        self.relu = nn.ReLU()\n",
    "    \n",
    "    def forward(self,x):\n",
    "        h_0 = Variable(torch.zeros(self.num_layers, x.size(0), self.hidden_size)) #hidden state\n",
    "        c_0 = Variable(torch.zeros(self.num_layers, x.size(0), self.hidden_size)) #internal state\n",
    "        # Propagate input through LSTM\n",
    "        output, (hn, cn) = self.lstm(x, (h_0, c_0)) #lstm with input, hidden, and internal state\n",
    "        hn = hn.view(-1, self.hidden_size) #reshaping the data for Dense layer next\n",
    "        out = self.relu(hn)\n",
    "        out = self.fc_1(out) #first Dense\n",
    "        out = self.relu(out) #relu\n",
    "        out = self.fc(out) #Final Output\n",
    "        return out"
   ]
  },
  {
   "cell_type": "code",
   "execution_count": null,
   "metadata": {
    "id": "RHOD0NDpM1z7"
   },
   "outputs": [],
   "source": [
    "X_train_tensors = Variable(torch.Tensor(X_train))\n",
    "X_test_tensors = Variable(torch.Tensor(X_test))\n",
    "\n",
    "y_train_tensors = Variable(torch.Tensor(y_train))\n",
    "y_test_tensors = Variable(torch.Tensor(y_test)) "
   ]
  },
  {
   "cell_type": "code",
   "execution_count": null,
   "metadata": {
    "id": "bQlH7huRM8nS"
   },
   "outputs": [],
   "source": [
    "num_epochs = 1000 #1000 epochs\n",
    "learning_rate = 0.001 #0.001 lr\n",
    "\n",
    "input_size = 2 #number of features\n",
    "hidden_size = 2 #number of features in hidden state\n",
    "num_layers = 1 #number of stacked lstm layers\n",
    "\n",
    "num_classes = 3 #number of output classes \n",
    "\n",
    "lstm1 = LSTM1(num_classes, input_size, hidden_size, num_layers, X_train_tensors_final.shape[1]) #our lstm class "
   ]
  }
 ],
 "metadata": {
  "colab": {
   "collapsed_sections": [
    "pzDWJwVDN_ZR"
   ],
   "name": "FCNN.ipynb",
   "provenance": []
  },
  "kernelspec": {
   "display_name": "Python 3 (ipykernel)",
   "language": "python",
   "name": "python3"
  },
  "language_info": {
   "codemirror_mode": {
    "name": "ipython",
    "version": 3
   },
   "file_extension": ".py",
   "mimetype": "text/x-python",
   "name": "python",
   "nbconvert_exporter": "python",
   "pygments_lexer": "ipython3",
   "version": "3.9.12"
  }
 },
 "nbformat": 4,
 "nbformat_minor": 1
}
