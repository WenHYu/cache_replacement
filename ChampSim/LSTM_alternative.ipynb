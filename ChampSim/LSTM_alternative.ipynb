{
 "cells": [
  {
   "cell_type": "code",
   "execution_count": 1,
   "metadata": {
    "colab": {
     "base_uri": "https://localhost:8080/"
    },
    "id": "ETC-e8u6jF4C",
    "outputId": "62df4836-7fb6-4832-9a90-49aab2018b68"
   },
   "outputs": [
    {
     "ename": "ModuleNotFoundError",
     "evalue": "No module named 'google.colab'",
     "output_type": "error",
     "traceback": [
      "\u001b[1;31m---------------------------------------------------------------------------\u001b[0m",
      "\u001b[1;31mModuleNotFoundError\u001b[0m                       Traceback (most recent call last)",
      "Input \u001b[1;32mIn [1]\u001b[0m, in \u001b[0;36m<cell line: 1>\u001b[1;34m()\u001b[0m\n\u001b[1;32m----> 1\u001b[0m \u001b[38;5;28;01mfrom\u001b[39;00m \u001b[38;5;21;01mgoogle\u001b[39;00m\u001b[38;5;21;01m.\u001b[39;00m\u001b[38;5;21;01mcolab\u001b[39;00m \u001b[38;5;28;01mimport\u001b[39;00m drive\n\u001b[0;32m      2\u001b[0m drive\u001b[38;5;241m.\u001b[39mmount(\u001b[38;5;124m'\u001b[39m\u001b[38;5;124m/content/drive\u001b[39m\u001b[38;5;124m'\u001b[39m)\n",
      "\u001b[1;31mModuleNotFoundError\u001b[0m: No module named 'google.colab'"
     ]
    }
   ],
   "source": [
    "from google.colab import drive\n",
    "drive.mount('/content/drive')"
   ]
  },
  {
   "cell_type": "code",
   "execution_count": 2,
   "metadata": {
    "id": "Tq-ekqLcciyc"
   },
   "outputs": [],
   "source": [
    "import numpy as np\n",
    "x = np.load(\"training2_x.npy\")\n",
    "y = np.load(\"training2_y.npy\")"
   ]
  },
  {
   "cell_type": "code",
   "execution_count": 3,
   "metadata": {
    "id": "MG9Geb-2laHd"
   },
   "outputs": [],
   "source": [
    "# reshape and normalization\n",
    "x = x.reshape(6452,4,2048)\n",
    "\n",
    "means1 = x[:,1,:].mean()\n",
    "stds1 = x[:,1,:].std()\n",
    "x1 = (x[:,1,:].squeeze() - means1) / (stds1)\n",
    "\n",
    "means3 = x[:,3,:].mean()\n",
    "stds3 = x[:,3,:].std()\n",
    "x3 = (x[:,3,:].squeeze() - means3) / (2*stds3)\n",
    "\n",
    "x0 = x[:,0,:].squeeze() / 2048\n",
    "x2 = x[:,2,:].squeeze() / 2048\n",
    "\n",
    "x = np.hstack((x0,x1,x2,x3))\n",
    "x = x[:,np.newaxis,:]"
   ]
  },
  {
   "cell_type": "code",
   "execution_count": 4,
   "metadata": {
    "id": "W2htyDzwb3MM"
   },
   "outputs": [],
   "source": [
    "# y_temp = np.zeros((y.shape[0],3))\n",
    "# rows = np.arange(y.size)\n",
    "# y_temp[rows, y] = 1\n",
    "# y = y_temp"
   ]
  },
  {
   "cell_type": "code",
   "execution_count": 5,
   "metadata": {
    "colab": {
     "base_uri": "https://localhost:8080/"
    },
    "id": "9ggFQw8uNnYR",
    "outputId": "4030cf59-4c34-4d1e-810d-7ec04e0303e3"
   },
   "outputs": [
    {
     "data": {
      "text/plain": [
       "((5162, 1, 8192), (1290, 1, 8192), (5162,), (1290,))"
      ]
     },
     "execution_count": 5,
     "metadata": {},
     "output_type": "execute_result"
    }
   ],
   "source": [
    "X_train = x[:5162,:]\n",
    "X_test = x[5162:6452,:]\n",
    "y_train = y[:5162]\n",
    "y_test = y[5162:6452]\n",
    "X_train.shape, X_test.shape, y_train.shape, y_test.shape"
   ]
  },
  {
   "cell_type": "code",
   "execution_count": 6,
   "metadata": {
    "id": "RwGZqzV5JBem"
   },
   "outputs": [],
   "source": [
    "def data_gen(input, window_size):\n",
    "  if len(input.shape) > 1:\n",
    "    input = input.squeeze()\n",
    "    output = np.zeros(((input.shape[0] - window_size+1), window_size, input.shape[1]) )\n",
    "    for i in range(input.shape[0] - window_size+1):\n",
    "      output[i:i+1, :, :] = input[np.newaxis,i:(i+window_size),:]\n",
    "  elif len(input.shape) == 1:\n",
    "    output = np.zeros(((input.shape[0] - window_size+1), window_size) )\n",
    "    for i in range(input.shape[0] - window_size+1):\n",
    "      output[i:i+1, :] = input[np.newaxis,i:(i+window_size)]\n",
    "  return output"
   ]
  },
  {
   "cell_type": "code",
   "execution_count": 7,
   "metadata": {
    "id": "BWVO_EOnOFqQ"
   },
   "outputs": [],
   "source": [
    "X_train = data_gen(X_train, 10)\n",
    "X_test = data_gen(X_test, 10)\n",
    "# y_train = data_gen(y_train, 10)\n",
    "# y_test = data_gen(y_test, 10)\n",
    "y_train = y_train[9:]\n",
    "y_test = y_test[9:]"
   ]
  },
  {
   "cell_type": "code",
   "execution_count": 8,
   "metadata": {
    "colab": {
     "base_uri": "https://localhost:8080/"
    },
    "id": "jMMzMbA1PTjv",
    "outputId": "1f0f58d2-bac0-4ce4-cd44-c74e6671c5b8"
   },
   "outputs": [
    {
     "data": {
      "text/plain": [
       "((5153, 10, 8192), (1281, 10, 8192), (5153,), (1281,))"
      ]
     },
     "execution_count": 8,
     "metadata": {},
     "output_type": "execute_result"
    }
   ],
   "source": [
    "import torch\n",
    "import torch.nn as nn\n",
    "from torch.autograd import Variable\n",
    "\n",
    "X_train_tensors = Variable(torch.Tensor(X_train))\n",
    "X_test_tensors = Variable(torch.Tensor(X_test))\n",
    "\n",
    "y_train_tensors = Variable(torch.LongTensor(y_train))\n",
    "y_test_tensors = Variable(torch.LongTensor(y_test)) \n",
    "X_train.shape, X_test.shape, y_train.shape, y_test.shape"
   ]
  },
  {
   "cell_type": "code",
   "execution_count": 9,
   "metadata": {
    "id": "IWW_vb42Hg4c"
   },
   "outputs": [],
   "source": [
    "\n",
    "class LSTM1(nn.Module):\n",
    "    def __init__(self, num_classes, input_size, hidden_size, num_layers, seq_length):\n",
    "        super(LSTM1, self).__init__()\n",
    "        self.num_classes = num_classes #number of classes\n",
    "        self.num_layers = num_layers #number of layers\n",
    "        self.input_size = input_size #The number of expected features in the input x\n",
    "        self.hidden_size = hidden_size #hidden state\n",
    "        self.seq_length = seq_length #sequence length\n",
    "\n",
    "        self.lstm = nn.LSTM(input_size=input_size, hidden_size=hidden_size,\n",
    "                          num_layers=num_layers, batch_first=True) #lstm\n",
    "        # self.fcn1 =  nn.Linear(hidden_size, 100) #fully connected 1\n",
    "        # self.relu1 = nn.ReLU()\n",
    "        # self.fcn2 =  nn.Linear(100, num_classes) #fully connected 1\n",
    "        # self.relu2 = nn.ReLU()\n",
    "        self.fcn =  nn.Linear(hidden_size, num_classes) #fully connected 1\n",
    "        self.relu = nn.ReLU()\n",
    "    \n",
    "    def forward(self,x):\n",
    "        h_0 = Variable(torch.zeros(self.num_layers, x.size(0), self.hidden_size)) #hidden state\n",
    "        c_0 = Variable(torch.zeros(self.num_layers, x.size(0), self.hidden_size)) #internal state\n",
    "        # Propagate input through LSTM\n",
    "        # output, (hn, cn) = self.lstm(x, (h_0, c_0)) #lstm with input, hidden, and internal state\n",
    "        output, (hn, cn) = self.lstm(x)\n",
    "\n",
    "        # testing\n",
    "        print\n",
    "        hn = hn[-1,:,:].view(-1, self.hidden_size) #reshaping the data for Dense layer next\n",
    "        # out = self.relu1(hn)\n",
    "        # out = self.fcn1(out)\n",
    "        # out = self.relu2(out)\n",
    "        # out = self.fcn2(out)\n",
    "        out = self.relu(hn)\n",
    "        out = self.fcn(out)\n",
    "\n",
    "        return out"
   ]
  },
  {
   "cell_type": "code",
   "execution_count": 10,
   "metadata": {
    "id": "CE4h9Mh3NU3A"
   },
   "outputs": [],
   "source": [
    "num_epochs = 10 #1000 epochs\n",
    "learning_rate = 0.001 #0.001 lr\n",
    "input_size = 8192 #number of features\n",
    "hidden_size = 400 #number of features in hidden state\n",
    "num_layers = 3 #number of stacked lstm layers\n",
    "num_classes = 3 #number of output classes \n",
    "seq_length = 1\n",
    "window_size = 200\n",
    "\n",
    "lstm1 = LSTM1(num_classes, input_size, hidden_size, num_layers, seq_length)\n",
    "criterion = torch.nn.CrossEntropyLoss()\n",
    "optimizer = torch.optim.Adam(lstm1.parameters(), lr=learning_rate)"
   ]
  },
  {
   "cell_type": "code",
   "execution_count": 11,
   "metadata": {
    "colab": {
     "base_uri": "https://localhost:8080/"
    },
    "id": "2QBE4ElXPAdf",
    "outputId": "56c086bc-aee5-41ff-a57d-227f320f3dd3"
   },
   "outputs": [
    {
     "name": "stdout",
     "output_type": "stream",
     "text": [
      "torch.Size([5153, 3])\n",
      "Epoch: 0, loss: 1.09908\n",
      "torch.Size([5153, 3])\n",
      "Epoch: 1, loss: 1.01986\n",
      "torch.Size([5153, 3])\n",
      "Epoch: 2, loss: 0.91373\n",
      "torch.Size([5153, 3])\n",
      "Epoch: 3, loss: 0.98354\n",
      "torch.Size([5153, 3])\n",
      "Epoch: 4, loss: 0.87163\n",
      "torch.Size([5153, 3])\n",
      "Epoch: 5, loss: 0.86993\n",
      "torch.Size([5153, 3])\n",
      "Epoch: 6, loss: 0.84749\n",
      "torch.Size([5153, 3])\n",
      "Epoch: 7, loss: 0.80422\n",
      "torch.Size([5153, 3])\n",
      "Epoch: 8, loss: 0.76234\n",
      "torch.Size([5153, 3])\n",
      "Epoch: 9, loss: 0.73124\n"
     ]
    }
   ],
   "source": [
    "for epoch in range(num_epochs):\n",
    "  outputs = lstm1.forward(X_train_tensors) #forward pass\n",
    "  # print(outputs.shape)\n",
    "  optimizer.zero_grad() #caluclate the gradient, manually setting to 0\n",
    "\n",
    "  # obtain the loss function\n",
    "  print(outputs.shape)\n",
    "  loss = criterion(outputs, y_train_tensors)\n",
    "\n",
    "  loss.backward() #calculates the loss of the loss function\n",
    "\n",
    "  optimizer.step() #improve from loss, i.e backprop\n",
    "  if epoch % 1 == 0:\n",
    "    print(\"Epoch: %d, loss: %1.5f\" % (epoch, loss.item()))"
   ]
  },
  {
   "cell_type": "markdown",
   "metadata": {
    "id": "Dv5XtQepPJRa"
   },
   "source": [
    "### TODO"
   ]
  },
  {
   "cell_type": "code",
   "execution_count": null,
   "metadata": {
    "id": "Ya5oYdTGPCYf"
   },
   "outputs": [],
   "source": [
    "for epoch in range(num_epochs):\n",
    "  for win in range(X_train_tensors.shape[0] - window_size + 1):\n",
    "    outputs = lstm1.forward(X_train_tensors[win:win+window_size,:,:]) #forward pass\n",
    "    # print(outputs.shape)\n",
    "    optimizer.zero_grad() #caluclate the gradient, manually setting to 0\n",
    "  \n",
    "    # obtain the loss function\n",
    "    loss = criterion(outputs, y_train_tensors[win:win+window_size])\n",
    "  \n",
    "    loss.backward() #calculates the loss of the loss function\n",
    "  \n",
    "    optimizer.step() #improve from loss, i.e backprop\n",
    "  if epoch % 1 == 0:\n",
    "    print(\"Epoch: %d, loss: %1.5f\" % (epoch, loss.item()))"
   ]
  },
  {
   "cell_type": "markdown",
   "metadata": {
    "id": "Z2HSanAJPONp"
   },
   "source": [
    "# TEST"
   ]
  },
  {
   "cell_type": "code",
   "execution_count": 12,
   "metadata": {
    "colab": {
     "base_uri": "https://localhost:8080/"
    },
    "id": "vBHcgh4KfD9z",
    "outputId": "d7390243-c4af-45a2-eafd-741666057afb"
   },
   "outputs": [
    {
     "data": {
      "text/plain": [
       "tensor(0.5722)"
      ]
     },
     "execution_count": 12,
     "metadata": {},
     "output_type": "execute_result"
    }
   ],
   "source": [
    "rst = lstm1.forward(X_test_tensors)\n",
    "y_pred = torch.argmax(rst, dim=1)\n",
    "torch.eq(y_pred, y_test_tensors).sum()/y_pred.shape[0]"
   ]
  },
  {
   "cell_type": "code",
   "execution_count": 15,
   "metadata": {
    "colab": {
     "base_uri": "https://localhost:8080/",
     "height": 460
    },
    "id": "av4w8waWVCTs",
    "outputId": "423665ad-26b2-4a3a-e52a-c84976c68276"
   },
   "outputs": [
    {
     "data": {
      "text/plain": [
       "[Text(42.0, 0.5, 'True Value'), Text(0.5, 42.0, 'Predicted Value')]"
      ]
     },
     "execution_count": 15,
     "metadata": {},
     "output_type": "execute_result"
    },
    {
     "data": {
      "image/png": "[encoded data removed]",
      "text/plain": [
       "<Figure size 504x504 with 2 Axes>"
      ]
     },
     "metadata": {
      "needs_background": "light"
     },
     "output_type": "display_data"
    }
   ],
   "source": [
    "import sklearn\n",
    "from sklearn.metrics import confusion_matrix\n",
    "import matplotlib.pyplot as plt\n",
    "import seaborn as sn\n",
    "import pandas as pd\n",
    "\n",
    "confusion_matrix = sklearn.metrics.confusion_matrix(y_test, y_pred)\n",
    "df_cm = pd.DataFrame(confusion_matrix, index = [0,1,2], columns = [0,1,2])\n",
    "plt.figure(figsize = (7,7))\n",
    "s = sn.heatmap(df_cm, annot=True, fmt='g',cmap='Blues')\n",
    "s.set(xlabel='Predicted Value', ylabel='True Value')"
   ]
  },
  {
   "cell_type": "code",
   "execution_count": null,
   "metadata": {
    "colab": {
     "base_uri": "https://localhost:8080/"
    },
    "id": "lOqyVq4fpiRd",
    "outputId": "e3b2dd62-2315-4fbd-ce0b-42733521c678"
   },
   "outputs": [
    {
     "data": {
      "text/plain": [
       "tensor(0.5618)"
      ]
     },
     "execution_count": 275,
     "metadata": {},
     "output_type": "execute_result"
    }
   ],
   "source": [
    "tst = torch.zeros(y_test_tensors.shape[0])\n",
    "torch.eq(tst, y_test_tensors).sum()/tst.shape[0]"
   ]
  },
  {
   "cell_type": "code",
   "execution_count": null,
   "metadata": {
    "id": "tcysUbfgudG5"
   },
   "outputs": [],
   "source": [
    "l = 0\n",
    "for i in range(1,y.shape[0]):\n",
    "  if y[i] != y[i-1]:\n",
    "    print(i-l)\n",
    "    l = i"
   ]
  },
  {
   "cell_type": "markdown",
   "metadata": {
    "id": "CzpFSll9HhSf"
   },
   "source": [
    "# TODO: CNN"
   ]
  },
  {
   "cell_type": "code",
   "execution_count": null,
   "metadata": {
    "id": "enRqCYlAf57V"
   },
   "outputs": [],
   "source": [
    "import torch.nn as nn\n",
    "\n",
    "# the VGG11 architecture\n",
    "class VGG11(nn.Module):\n",
    "    def __init__(self, in_channels, num_classes=3):\n",
    "        super(VGG11, self).__init__()\n",
    "        self.in_channels = in_channels\n",
    "        self.num_classes = num_classes\n",
    "        # convolutional layers \n",
    "        self.conv_layers = nn.Sequential(\n",
    "            nn.Conv2d(self.in_channels, 64, kernel_size=3, padding=1),\n",
    "            nn.ReLU(),\n",
    "            # nn.MaxPool2d(kernel_size=2, stride=2),\n",
    "            nn.Conv2d(64, 128, kernel_size=3, padding=1),\n",
    "            nn.ReLU(),\n",
    "            # nn.MaxPool2d(kernel_size=2, stride=2),\n",
    "        )\n",
    "        # fully connected linear layers\n",
    "        self.linear_layers = nn.Sequential(\n",
    "            nn.Linear(in_features=512*7*7, out_features=4096),\n",
    "            nn.ReLU(),\n",
    "            nn.Dropout2d(0.5),\n",
    "            nn.Linear(in_features=4096, out_features=4096),\n",
    "            nn.ReLU(),\n",
    "            nn.Dropout2d(0.5),\n",
    "            nn.Linear(in_features=4096, out_features=self.num_classes)\n",
    "        )\n",
    "    def forward(self, x):\n",
    "        x = self.conv_layers(x)\n",
    "        # flatten to prepare for the fully connected layers\n",
    "        x = x.view(x.size(0), -1)\n",
    "        x = self.linear_layers(x)\n",
    "        return "
   ]
  }
 ],
 "metadata": {
  "colab": {
   "name": "LSTM.ipynb",
   "provenance": []
  },
  "kernelspec": {
   "display_name": "Python 3 (ipykernel)",
   "language": "python",
   "name": "python3"
  },
  "language_info": {
   "codemirror_mode": {
    "name": "ipython",
    "version": 3
   },
   "file_extension": ".py",
   "mimetype": "text/x-python",
   "name": "python",
   "nbconvert_exporter": "python",
   "pygments_lexer": "ipython3",
   "version": "3.9.12"
  }
 },
 "nbformat": 4,
 "nbformat_minor": 1
}
