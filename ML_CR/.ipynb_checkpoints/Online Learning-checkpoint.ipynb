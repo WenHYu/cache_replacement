{
 "cells": [
  {
   "cell_type": "markdown",
   "metadata": {
    "colab_type": "text",
    "id": "view-in-github"
   },
   "source": [
    "<a href=\"https://colab.research.google.com/github/jay2jaykp/ML/blob/master/Online%20Learning.ipynb\" target=\"_parent\"><img src=\"https://colab.research.google.com/assets/colab-badge.svg\" alt=\"Open In Colab\"/></a>"
   ]
  },
  {
   "cell_type": "code",
   "execution_count": 2,
   "metadata": {
    "colab": {},
    "colab_type": "code",
    "id": "UTqigCUGFTwB"
   },
   "outputs": [],
   "source": [
    "import numpy as np\n",
    "#from tqdm import tqdm\n",
    "from tqdm import tqdm_notebook as tqdm\n",
    "import pandas as pd\n",
    "import numpy as np\n",
    "from collections import defaultdict\n",
    "from functools import partial\n",
    "import matplotlib.pyplot as plt\n",
    "from matplotlib.pyplot import figure \n",
    "import time\n",
    "import argparse"
   ]
  },
  {
   "cell_type": "code",
   "execution_count": 3,
   "metadata": {},
   "outputs": [],
   "source": [
    "#upload data\n",
    "data = pd.read_csv('cheetah.cs.fiu.edu-110108-113008.1.blkparse', header=None)\n",
    "\n",
    "#split columns\n",
    "df = pd.DataFrame(data[0].str.split(' ',9).tolist())\n",
    "\n",
    "#extract one column --> blocktrace sequence\n",
    "blocktrace = df[3].tolist()\n",
    "#convert element to int from str\n",
    "blocktrace = np.array([int(x) for x in blocktrace])"
   ]
  },
  {
   "cell_type": "code",
   "execution_count": 5,
   "metadata": {},
   "outputs": [
    {
     "data": {
      "text/html": [
       "<div>\n",
       "<style scoped>\n",
       "    .dataframe tbody tr th:only-of-type {\n",
       "        vertical-align: middle;\n",
       "    }\n",
       "\n",
       "    .dataframe tbody tr th {\n",
       "        vertical-align: top;\n",
       "    }\n",
       "\n",
       "    .dataframe thead th {\n",
       "        text-align: right;\n",
       "    }\n",
       "</style>\n",
       "<table border=\"1\" class=\"dataframe\">\n",
       "  <thead>\n",
       "    <tr style=\"text-align: right;\">\n",
       "      <th></th>\n",
       "      <th>0</th>\n",
       "      <th>1</th>\n",
       "      <th>2</th>\n",
       "      <th>3</th>\n",
       "      <th>4</th>\n",
       "      <th>5</th>\n",
       "      <th>6</th>\n",
       "      <th>7</th>\n",
       "      <th>8</th>\n",
       "    </tr>\n",
       "  </thead>\n",
       "  <tbody>\n",
       "    <tr>\n",
       "      <th>0</th>\n",
       "      <td>89966811921625</td>\n",
       "      <td>4257</td>\n",
       "      <td>nfsd</td>\n",
       "      <td>488846200</td>\n",
       "      <td>8</td>\n",
       "      <td>W</td>\n",
       "      <td>6</td>\n",
       "      <td>0</td>\n",
       "      <td>2c4787c7671c2f638777c4ab72859ce1</td>\n",
       "    </tr>\n",
       "    <tr>\n",
       "      <th>1</th>\n",
       "      <td>89967003980393</td>\n",
       "      <td>4253</td>\n",
       "      <td>nfsd</td>\n",
       "      <td>508455704</td>\n",
       "      <td>8</td>\n",
       "      <td>W</td>\n",
       "      <td>6</td>\n",
       "      <td>0</td>\n",
       "      <td>88b93b628d84082186026d9da044f173</td>\n",
       "    </tr>\n",
       "    <tr>\n",
       "      <th>2</th>\n",
       "      <td>89967004049935</td>\n",
       "      <td>4253</td>\n",
       "      <td>nfsd</td>\n",
       "      <td>508455712</td>\n",
       "      <td>8</td>\n",
       "      <td>W</td>\n",
       "      <td>6</td>\n",
       "      <td>0</td>\n",
       "      <td>b5e9f4e5ab62a4fff5313a606b0ad4e3</td>\n",
       "    </tr>\n",
       "    <tr>\n",
       "      <th>3</th>\n",
       "      <td>89967004093615</td>\n",
       "      <td>4253</td>\n",
       "      <td>nfsd</td>\n",
       "      <td>508455720</td>\n",
       "      <td>8</td>\n",
       "      <td>W</td>\n",
       "      <td>6</td>\n",
       "      <td>0</td>\n",
       "      <td>7af5556ad4d45263bcd8358867333dd4</td>\n",
       "    </tr>\n",
       "    <tr>\n",
       "      <th>4</th>\n",
       "      <td>89967324150054</td>\n",
       "      <td>4254</td>\n",
       "      <td>nfsd</td>\n",
       "      <td>508500288</td>\n",
       "      <td>8</td>\n",
       "      <td>W</td>\n",
       "      <td>6</td>\n",
       "      <td>0</td>\n",
       "      <td>88b93b628d84082186026d9da044f173</td>\n",
       "    </tr>\n",
       "  </tbody>\n",
       "</table>\n",
       "</div>"
      ],
      "text/plain": [
       "                0     1     2          3  4  5  6  7  \\\n",
       "0  89966811921625  4257  nfsd  488846200  8  W  6  0   \n",
       "1  89967003980393  4253  nfsd  508455704  8  W  6  0   \n",
       "2  89967004049935  4253  nfsd  508455712  8  W  6  0   \n",
       "3  89967004093615  4253  nfsd  508455720  8  W  6  0   \n",
       "4  89967324150054  4254  nfsd  508500288  8  W  6  0   \n",
       "\n",
       "                                  8  \n",
       "0  2c4787c7671c2f638777c4ab72859ce1  \n",
       "1  88b93b628d84082186026d9da044f173  \n",
       "2  b5e9f4e5ab62a4fff5313a606b0ad4e3  \n",
       "3  7af5556ad4d45263bcd8358867333dd4  \n",
       "4  88b93b628d84082186026d9da044f173  "
      ]
     },
     "execution_count": 5,
     "metadata": {},
     "output_type": "execute_result"
    }
   ],
   "source": [
    "df.head()"
   ]
  },
  {
   "cell_type": "code",
   "execution_count": 40,
   "metadata": {},
   "outputs": [
    {
     "data": {
      "text/html": [
       "<div>\n",
       "<style scoped>\n",
       "    .dataframe tbody tr th:only-of-type {\n",
       "        vertical-align: middle;\n",
       "    }\n",
       "\n",
       "    .dataframe tbody tr th {\n",
       "        vertical-align: top;\n",
       "    }\n",
       "\n",
       "    .dataframe thead th {\n",
       "        text-align: right;\n",
       "    }\n",
       "</style>\n",
       "<table border=\"1\" class=\"dataframe\">\n",
       "  <thead>\n",
       "    <tr style=\"text-align: right;\">\n",
       "      <th></th>\n",
       "      <th>timestamp</th>\n",
       "      <th>block</th>\n",
       "    </tr>\n",
       "  </thead>\n",
       "  <tbody>\n",
       "    <tr>\n",
       "      <th>0</th>\n",
       "      <td>89966811921625</td>\n",
       "      <td>488846200</td>\n",
       "    </tr>\n",
       "    <tr>\n",
       "      <th>1</th>\n",
       "      <td>89967003980393</td>\n",
       "      <td>508455704</td>\n",
       "    </tr>\n",
       "    <tr>\n",
       "      <th>2</th>\n",
       "      <td>89967004049935</td>\n",
       "      <td>508455712</td>\n",
       "    </tr>\n",
       "    <tr>\n",
       "      <th>3</th>\n",
       "      <td>89967004093615</td>\n",
       "      <td>508455720</td>\n",
       "    </tr>\n",
       "    <tr>\n",
       "      <th>4</th>\n",
       "      <td>89967324150054</td>\n",
       "      <td>508500288</td>\n",
       "    </tr>\n",
       "  </tbody>\n",
       "</table>\n",
       "</div>"
      ],
      "text/plain": [
       "        timestamp      block\n",
       "0  89966811921625  488846200\n",
       "1  89967003980393  508455704\n",
       "2  89967004049935  508455712\n",
       "3  89967004093615  508455720\n",
       "4  89967324150054  508500288"
      ]
     },
     "execution_count": 40,
     "metadata": {},
     "output_type": "execute_result"
    }
   ],
   "source": [
    "blocktrace = df[[0,3]]\n",
    "blocktrace.columns = ['timestamp', 'block']\n",
    "blocktrace = blocktrace.apply(pd.to_numeric)\n",
    "blocktrace.head()"
   ]
  },
  {
   "cell_type": "code",
   "execution_count": 49,
   "metadata": {},
   "outputs": [
    {
     "data": {
      "text/plain": [
       "array([488846200, 508455704, 508455712, ...,  74832032,  74836592,\n",
       "          748320], dtype=int64)"
      ]
     },
     "execution_count": 49,
     "metadata": {},
     "output_type": "execute_result"
    }
   ],
   "source": [
    "unique_block = blocktrace['block'].unique()\n",
    "unique_block"
   ]
  },
  {
   "cell_type": "code",
   "execution_count": null,
   "metadata": {},
   "outputs": [],
   "source": [
    "freq = {}\n",
    "for i in (unique_block):\n",
    "    t =blocktrace.loc[blocktrace['block'] == i ]\n",
    "    t['freq'] = (t['timestamp'].shift(-1) - t['timestamp']) / 1000000000\n",
    "    total = t['freq'].sum() / t.shape[0]\n",
    "    freq[i] = total"
   ]
  },
  {
   "cell_type": "code",
   "execution_count": 44,
   "metadata": {},
   "outputs": [
    {
     "name": "stderr",
     "output_type": "stream",
     "text": [
      "C:\\Users\\Jay\\Anaconda3\\lib\\site-packages\\ipykernel_launcher.py:2: SettingWithCopyWarning: \n",
      "A value is trying to be set on a copy of a slice from a DataFrame.\n",
      "Try using .loc[row_indexer,col_indexer] = value instead\n",
      "\n",
      "See the caveats in the documentation: http://pandas.pydata.org/pandas-docs/stable/indexing.html#indexing-view-versus-copy\n",
      "  \n"
     ]
    },
    {
     "data": {
      "text/html": [
       "<div>\n",
       "<style scoped>\n",
       "    .dataframe tbody tr th:only-of-type {\n",
       "        vertical-align: middle;\n",
       "    }\n",
       "\n",
       "    .dataframe tbody tr th {\n",
       "        vertical-align: top;\n",
       "    }\n",
       "\n",
       "    .dataframe thead th {\n",
       "        text-align: right;\n",
       "    }\n",
       "</style>\n",
       "<table border=\"1\" class=\"dataframe\">\n",
       "  <thead>\n",
       "    <tr style=\"text-align: right;\">\n",
       "      <th></th>\n",
       "      <th>timestamp</th>\n",
       "      <th>block</th>\n",
       "      <th>freq</th>\n",
       "    </tr>\n",
       "  </thead>\n",
       "  <tbody>\n",
       "    <tr>\n",
       "      <th>0</th>\n",
       "      <td>89966811921625</td>\n",
       "      <td>488846200</td>\n",
       "      <td>3.203743</td>\n",
       "    </tr>\n",
       "    <tr>\n",
       "      <th>3007</th>\n",
       "      <td>89970015664252</td>\n",
       "      <td>488846200</td>\n",
       "      <td>0.447266</td>\n",
       "    </tr>\n",
       "    <tr>\n",
       "      <th>3920</th>\n",
       "      <td>89970462930696</td>\n",
       "      <td>488846200</td>\n",
       "      <td>7.024705</td>\n",
       "    </tr>\n",
       "    <tr>\n",
       "      <th>7119</th>\n",
       "      <td>89977487635675</td>\n",
       "      <td>488846200</td>\n",
       "      <td>0.404613</td>\n",
       "    </tr>\n",
       "    <tr>\n",
       "      <th>7121</th>\n",
       "      <td>89977892249173</td>\n",
       "      <td>488846200</td>\n",
       "      <td>18.042932</td>\n",
       "    </tr>\n",
       "  </tbody>\n",
       "</table>\n",
       "</div>"
      ],
      "text/plain": [
       "           timestamp      block       freq\n",
       "0     89966811921625  488846200   3.203743\n",
       "3007  89970015664252  488846200   0.447266\n",
       "3920  89970462930696  488846200   7.024705\n",
       "7119  89977487635675  488846200   0.404613\n",
       "7121  89977892249173  488846200  18.042932"
      ]
     },
     "execution_count": 44,
     "metadata": {},
     "output_type": "execute_result"
    }
   ],
   "source": [
    "t =blocktrace.loc[blocktrace['block'] == 488846200 ]\n",
    "t['freq'] = (t['timestamp'].shift(-1) - t['timestamp']) / 1000000000\n",
    "t.head()"
   ]
  },
  {
   "cell_type": "code",
   "execution_count": 47,
   "metadata": {},
   "outputs": [
    {
     "data": {
      "text/plain": [
       "31.08903011429535"
      ]
     },
     "execution_count": 47,
     "metadata": {},
     "output_type": "execute_result"
    }
   ],
   "source": [
    "total = t['freq'].sum() / t.shape[0]\n",
    "total"
   ]
  },
  {
   "cell_type": "code",
   "execution_count": 46,
   "metadata": {},
   "outputs": [
    {
     "data": {
      "text/plain": [
       "237"
      ]
     },
     "execution_count": 46,
     "metadata": {},
     "output_type": "execute_result"
    }
   ],
   "source": [
    "t.shape[0]"
   ]
  },
  {
   "cell_type": "code",
   "execution_count": 20,
   "metadata": {},
   "outputs": [
    {
     "name": "stderr",
     "output_type": "stream",
     "text": [
      "C:\\Users\\Jay\\Anaconda3\\lib\\site-packages\\ipykernel_launcher.py:1: SettingWithCopyWarning: \n",
      "A value is trying to be set on a copy of a slice from a DataFrame.\n",
      "Try using .loc[row_indexer,col_indexer] = value instead\n",
      "\n",
      "See the caveats in the documentation: http://pandas.pydata.org/pandas-docs/stable/indexing.html#indexing-view-versus-copy\n",
      "  \"\"\"Entry point for launching an IPython kernel.\n"
     ]
    }
   ],
   "source": [
    "t[0] = t[0].apply(pd.to_numeric)"
   ]
  },
  {
   "cell_type": "code",
   "execution_count": 28,
   "metadata": {},
   "outputs": [
    {
     "name": "stderr",
     "output_type": "stream",
     "text": [
      "C:\\Users\\Jay\\Anaconda3\\lib\\site-packages\\ipykernel_launcher.py:1: SettingWithCopyWarning: \n",
      "A value is trying to be set on a copy of a slice from a DataFrame.\n",
      "Try using .loc[row_indexer,col_indexer] = value instead\n",
      "\n",
      "See the caveats in the documentation: http://pandas.pydata.org/pandas-docs/stable/indexing.html#indexing-view-versus-copy\n",
      "  \"\"\"Entry point for launching an IPython kernel.\n"
     ]
    }
   ],
   "source": [
    "t['freq'] = t[0].shift(-1) - t[0]"
   ]
  },
  {
   "cell_type": "code",
   "execution_count": 34,
   "metadata": {},
   "outputs": [
    {
     "data": {
      "text/html": [
       "<div>\n",
       "<style scoped>\n",
       "    .dataframe tbody tr th:only-of-type {\n",
       "        vertical-align: middle;\n",
       "    }\n",
       "\n",
       "    .dataframe tbody tr th {\n",
       "        vertical-align: top;\n",
       "    }\n",
       "\n",
       "    .dataframe thead th {\n",
       "        text-align: right;\n",
       "    }\n",
       "</style>\n",
       "<table border=\"1\" class=\"dataframe\">\n",
       "  <thead>\n",
       "    <tr style=\"text-align: right;\">\n",
       "      <th></th>\n",
       "      <th>0</th>\n",
       "      <th>1</th>\n",
       "      <th>2</th>\n",
       "      <th>3</th>\n",
       "      <th>4</th>\n",
       "      <th>5</th>\n",
       "      <th>6</th>\n",
       "      <th>7</th>\n",
       "      <th>8</th>\n",
       "      <th>freq</th>\n",
       "    </tr>\n",
       "  </thead>\n",
       "  <tbody>\n",
       "    <tr>\n",
       "      <th>0</th>\n",
       "      <td>89966811921625</td>\n",
       "      <td>4257</td>\n",
       "      <td>nfsd</td>\n",
       "      <td>488846200</td>\n",
       "      <td>8</td>\n",
       "      <td>W</td>\n",
       "      <td>6</td>\n",
       "      <td>0</td>\n",
       "      <td>2c4787c7671c2f638777c4ab72859ce1</td>\n",
       "      <td>7.770000e+02</td>\n",
       "    </tr>\n",
       "    <tr>\n",
       "      <th>3007</th>\n",
       "      <td>89970015664252</td>\n",
       "      <td>4254</td>\n",
       "      <td>nfsd</td>\n",
       "      <td>488846200</td>\n",
       "      <td>8</td>\n",
       "      <td>W</td>\n",
       "      <td>6</td>\n",
       "      <td>0</td>\n",
       "      <td>56dfdc25ec136fbce64f7fe7e336b9ff</td>\n",
       "      <td>4.472664e+08</td>\n",
       "    </tr>\n",
       "    <tr>\n",
       "      <th>3920</th>\n",
       "      <td>89970462930696</td>\n",
       "      <td>4253</td>\n",
       "      <td>nfsd</td>\n",
       "      <td>488846200</td>\n",
       "      <td>8</td>\n",
       "      <td>W</td>\n",
       "      <td>6</td>\n",
       "      <td>0</td>\n",
       "      <td>684fb98a8bd827a7ff80a930255fe6da</td>\n",
       "      <td>7.024705e+09</td>\n",
       "    </tr>\n",
       "    <tr>\n",
       "      <th>7119</th>\n",
       "      <td>89977487635675</td>\n",
       "      <td>4250</td>\n",
       "      <td>nfsd</td>\n",
       "      <td>488846200</td>\n",
       "      <td>8</td>\n",
       "      <td>W</td>\n",
       "      <td>6</td>\n",
       "      <td>0</td>\n",
       "      <td>56dfdc25ec136fbce64f7fe7e336b9ff</td>\n",
       "      <td>4.046135e+08</td>\n",
       "    </tr>\n",
       "    <tr>\n",
       "      <th>7121</th>\n",
       "      <td>89977892249173</td>\n",
       "      <td>4250</td>\n",
       "      <td>nfsd</td>\n",
       "      <td>488846200</td>\n",
       "      <td>8</td>\n",
       "      <td>W</td>\n",
       "      <td>6</td>\n",
       "      <td>0</td>\n",
       "      <td>684fb98a8bd827a7ff80a930255fe6da</td>\n",
       "      <td>1.804293e+10</td>\n",
       "    </tr>\n",
       "  </tbody>\n",
       "</table>\n",
       "</div>"
      ],
      "text/plain": [
       "                   0     1     2          3  4  5  6  7  \\\n",
       "0     89966811921625  4257  nfsd  488846200  8  W  6  0   \n",
       "3007  89970015664252  4254  nfsd  488846200  8  W  6  0   \n",
       "3920  89970462930696  4253  nfsd  488846200  8  W  6  0   \n",
       "7119  89977487635675  4250  nfsd  488846200  8  W  6  0   \n",
       "7121  89977892249173  4250  nfsd  488846200  8  W  6  0   \n",
       "\n",
       "                                     8          freq  \n",
       "0     2c4787c7671c2f638777c4ab72859ce1  7.770000e+02  \n",
       "3007  56dfdc25ec136fbce64f7fe7e336b9ff  4.472664e+08  \n",
       "3920  684fb98a8bd827a7ff80a930255fe6da  7.024705e+09  \n",
       "7119  56dfdc25ec136fbce64f7fe7e336b9ff  4.046135e+08  \n",
       "7121  684fb98a8bd827a7ff80a930255fe6da  1.804293e+10  "
      ]
     },
     "execution_count": 34,
     "metadata": {},
     "output_type": "execute_result"
    }
   ],
   "source": [
    "t.head()"
   ]
  },
  {
   "cell_type": "code",
   "execution_count": 23,
   "metadata": {},
   "outputs": [],
   "source": [
    "from datetime import datetime"
   ]
  },
  {
   "cell_type": "code",
   "execution_count": 31,
   "metadata": {},
   "outputs": [
    {
     "data": {
      "text/plain": [
       "(671728,)"
      ]
     },
     "execution_count": 31,
     "metadata": {},
     "output_type": "execute_result"
    }
   ],
   "source": [
    "df[3].unique().shape"
   ]
  },
  {
   "cell_type": "code",
   "execution_count": 33,
   "metadata": {},
   "outputs": [
    {
     "name": "stderr",
     "output_type": "stream",
     "text": [
      "C:\\Users\\Jay\\Anaconda3\\lib\\site-packages\\ipykernel_launcher.py:1: SettingWithCopyWarning: \n",
      "A value is trying to be set on a copy of a slice from a DataFrame\n",
      "\n",
      "See the caveats in the documentation: http://pandas.pydata.org/pandas-docs/stable/indexing.html#indexing-view-versus-copy\n",
      "  \"\"\"Entry point for launching an IPython kernel.\n",
      "C:\\Users\\Jay\\Anaconda3\\lib\\site-packages\\IPython\\core\\interactiveshell.py:2961: SettingWithCopyWarning: \n",
      "A value is trying to be set on a copy of a slice from a DataFrame\n",
      "\n",
      "See the caveats in the documentation: http://pandas.pydata.org/pandas-docs/stable/indexing.html#indexing-view-versus-copy\n",
      "  exec(code_obj, self.user_global_ns, self.user_ns)\n"
     ]
    }
   ],
   "source": [
    "t['freq'][0] = 777"
   ]
  },
  {
   "cell_type": "code",
   "execution_count": null,
   "metadata": {},
   "outputs": [],
   "source": []
  }
 ],
 "metadata": {
  "colab": {
   "include_colab_link": true,
   "name": "Untitled2.ipynb",
   "provenance": [],
   "version": "0.3.2"
  },
  "kernelspec": {
   "display_name": "Python 3",
   "language": "python",
   "name": "python3"
  },
  "language_info": {
   "codemirror_mode": {
    "name": "ipython",
    "version": 3
   },
   "file_extension": ".py",
   "mimetype": "text/x-python",
   "name": "python",
   "nbconvert_exporter": "python",
   "pygments_lexer": "ipython3",
   "version": "3.7.0"
  }
 },
 "nbformat": 4,
 "nbformat_minor": 1
}
