{
 "cells": [
  {
   "cell_type": "code",
   "execution_count": 1,
   "metadata": {},
   "outputs": [
    {
     "name": "stdout",
     "output_type": "stream",
     "text": [
      "Collecting tqdm\n",
      "  Downloading https://files.pythonhosted.org/packages/91/55/8cb23a97301b177e9c8e3226dba45bb454411de2cbd25746763267f226c2/tqdm-4.28.1-py2.py3-none-any.whl (45kB)\n",
      "Installing collected packages: tqdm\n",
      "Successfully installed tqdm-4.28.1\n"
     ]
    },
    {
     "name": "stderr",
     "output_type": "stream",
     "text": [
      "distributed 1.21.8 requires msgpack, which is not installed.\n",
      "You are using pip version 10.0.1, however version 18.1 is available.\n",
      "You should consider upgrading via the 'python -m pip install --upgrade pip' command.\n"
     ]
    }
   ],
   "source": [
    "!pip install tqdm"
   ]
  },
  {
   "cell_type": "code",
   "execution_count": 2,
   "metadata": {},
   "outputs": [],
   "source": [
    "from tqdm import tqdm_notebook as tqdm \n",
    "import numpy as np\n",
    "from collections import deque, defaultdict, OrderedDict\n",
    "import timeit\n",
    "import pandas as pd\n",
    "import random"
   ]
  },
  {
   "cell_type": "code",
   "execution_count": 30,
   "metadata": {},
   "outputs": [],
   "source": [
    "df = pd.read_csv('cheetah.cs.fiu.edu-110108-113008.1.blkparse', sep=' ', header=None)\n",
    "df.columns = ['timestamp','pid','pname','blockNo', 'blockSize', 'readOrWrite', 'bdMajor', 'bdMinor', 'hash']\n",
    "blocktrace = df['blockNo'].tolist()"
   ]
  },
  {
   "cell_type": "code",
   "execution_count": 31,
   "metadata": {},
   "outputs": [
    {
     "data": {
      "text/plain": [
       "1322890"
      ]
     },
     "execution_count": 31,
     "metadata": {},
     "output_type": "execute_result"
    }
   ],
   "source": [
    "len(blocktrace)"
   ]
  },
  {
   "cell_type": "code",
   "execution_count": 108,
   "metadata": {},
   "outputs": [],
   "source": [
    "bt = list(np.random.randint(10, size=(50)))"
   ]
  },
  {
   "cell_type": "code",
   "execution_count": 185,
   "metadata": {},
   "outputs": [],
   "source": [
    "\n",
    "def belady_opt(blocktrace, frame):\n",
    "    \n",
    "    OPT = defaultdict(deque)\n",
    "    latestIndex = set()\n",
    "    \n",
    "    for i, block in enumerate(tqdm(blocktrace, desc=\"OPT: building index\")):\n",
    "        OPT[block].append(i)    \n",
    "\n",
    "    hit, miss = 0, 0\n",
    "    C = set()\n",
    "    for block in tqdm(blocktrace, desc=\"OPT\", leave=False):\n",
    "        OPT[block].popleft()\n",
    "        if block in C:\n",
    "            if len(latestIndex) == frame:\n",
    "                for i in latestIndex:\n",
    "                    if blocktrace[i] == block:\n",
    "                        latestIndex.remove(i)\n",
    "                        break\n",
    "            print('here')\n",
    "            #latestIndex.remove(i for i in latestIndex if blocktrace[i] in C)\n",
    "            try:\n",
    "                latestIndex.add(OPT[block][0])\n",
    "            except:\n",
    "                pass\n",
    "            hit+=1\n",
    "           \n",
    "        else:\n",
    "            miss+=1\n",
    "            if len(C) == frame:\n",
    "                #eviction\n",
    "                if len(latestIndex) == 0:\n",
    "                    C.remove(random.sample(C,1)[0])\n",
    "                else:\n",
    "                    maxIndex = max(latestIndex)\n",
    "                    evictBlock = blocktrace[maxIndex]\n",
    "                    latestIndex.remove(maxIndex)\n",
    "                    C.remove(evictBlock)\n",
    "            \n",
    "            #insertion\n",
    "            C.add(block)\n",
    "            try:\n",
    "                latestIndex.add(OPT[block][0])\n",
    "            except:\n",
    "                pass\n",
    "                \n",
    "\n",
    "  \n",
    "    hitrate = hit / (hit + miss)\n",
    "    return hitrate"
   ]
  },
  {
   "cell_type": "code",
   "execution_count": 51,
   "metadata": {},
   "outputs": [
    {
     "ename": "IndentationError",
     "evalue": "unexpected indent (<ipython-input-51-ef9e17c77414>, line 2)",
     "output_type": "error",
     "traceback": [
      "\u001b[1;36m  File \u001b[1;32m\"<ipython-input-51-ef9e17c77414>\"\u001b[1;36m, line \u001b[1;32m2\u001b[0m\n\u001b[1;33m    maxAccessBlock = -1\u001b[0m\n\u001b[1;37m    ^\u001b[0m\n\u001b[1;31mIndentationError\u001b[0m\u001b[1;31m:\u001b[0m unexpected indent\n"
     ]
    }
   ],
   "source": [
    "maxAccessPosition = -1\n",
    "    maxAccessBlock = -1\n",
    "    for cached_block in C:\n",
    "        if len(OPT[cached_block]) is 0:\n",
    "            return cached_block            \n",
    "    for cached_block in C:\n",
    "        if OPT[cached_block][0] > maxAccessPosition:\n",
    "            maxAccessPosition = OPT[cached_block][0]\n",
    "            maxAccessBlock = cached_block\n",
    "    return maxAccessBlock\n"
   ]
  },
  {
   "cell_type": "code",
   "execution_count": 7,
   "metadata": {},
   "outputs": [],
   "source": [
    "l = []\n"
   ]
  },
  {
   "cell_type": "code",
   "execution_count": 212,
   "metadata": {},
   "outputs": [],
   "source": [
    "def getFurthestAccessBlock(C, OPT):\n",
    "    maxAccessPosition = -1\n",
    "    maxAccessBlock = -1\n",
    "    for cached_block in C:\n",
    "        if len(OPT[cached_block]) is 0:\n",
    "            return cached_block            \n",
    "    for cached_block in C:\n",
    "        if OPT[cached_block][0] > maxAccessPosition:\n",
    "            maxAccessPosition = OPT[cached_block][0]\n",
    "            maxAccessBlock = cached_block\n",
    "    return maxAccessBlock\n",
    "\n",
    "def belady_opt(blocktrace, frame):\n",
    "    OPT = defaultdict(deque)\n",
    "\n",
    "    for i, block in enumerate(tqdm(blocktrace, desc=\"OPT: building index\")):\n",
    "        OPT[block].append(i)    \n",
    "\n",
    "    #print (\"created OPT dictionary\")    \n",
    "    hit, miss = 0, 0\n",
    "    C = set()\n",
    "    \n",
    "\n",
    "    for block in tqdm(blocktrace, desc=\"OPT\"):\n",
    "\n",
    "        if block in C:\n",
    "            #OPT[block] = OPT[block][1:]\n",
    "            OPT[block].popleft()\n",
    "            hit+=1\n",
    "            #print('hit' + str(block))\n",
    "            #print(OPT)\n",
    "        else:\n",
    "            #print('miss' + str(block))\n",
    "            miss+=1\n",
    "            if len(C) == frame:\n",
    "                fblock = getFurthestAccessBlock(C, OPT)\n",
    "                assert(fblock != -1)\n",
    "                C.remove(fblock)\n",
    "            C.add(block)\n",
    "            #OPT[block] = OPT[block][1:]\n",
    "            #print(OPT)\n",
    "            OPT[block].popleft()\n",
    "            #print(block)\n",
    "    #print (\"hit count\" + str(hit_count))\n",
    "        print(C)\n",
    "    #print (\"miss count\" + str(miss_count))\n",
    "    hitrate = hit / (hit + miss)\n",
    "    #print(hitrate)\n",
    "    return hitrate"
   ]
  },
  {
   "cell_type": "code",
   "execution_count": 71,
   "metadata": {},
   "outputs": [
    {
     "data": {
      "application/vnd.jupyter.widget-view+json": {
       "model_id": "a5da617547f34e83a4b6f13daaeccabd",
       "version_major": 2,
       "version_minor": 0
      },
      "text/plain": [
       "HBox(children=(IntProgress(value=0, description='OPT: building index', max=10000, style=ProgressStyle(descript…"
      ]
     },
     "metadata": {},
     "output_type": "display_data"
    },
    {
     "name": "stdout",
     "output_type": "stream",
     "text": [
      "\n"
     ]
    },
    {
     "data": {
      "application/vnd.jupyter.widget-view+json": {
       "model_id": "888ae0ed0a4c4fbc8e1cd66ae85c6b07",
       "version_major": 2,
       "version_minor": 0
      },
      "text/plain": [
       "HBox(children=(IntProgress(value=0, description='OPT', max=10000, style=ProgressStyle(description_width='initi…"
      ]
     },
     "metadata": {},
     "output_type": "display_data"
    },
    {
     "name": "stdout",
     "output_type": "stream",
     "text": [
      "\n"
     ]
    }
   ],
   "source": [
    "l2  = belady_opt(blocktrace, 500)"
   ]
  },
  {
   "cell_type": "code",
   "execution_count": 261,
   "metadata": {},
   "outputs": [],
   "source": [
    "d = OrderedDict()"
   ]
  },
  {
   "cell_type": "code",
   "execution_count": 262,
   "metadata": {},
   "outputs": [],
   "source": [
    "d['jay'] = 3"
   ]
  },
  {
   "cell_type": "code",
   "execution_count": 263,
   "metadata": {},
   "outputs": [
    {
     "data": {
      "text/plain": [
       "OrderedDict([('jay', 3)])"
      ]
     },
     "execution_count": 263,
     "metadata": {},
     "output_type": "execute_result"
    }
   ],
   "source": [
    "d"
   ]
  },
  {
   "cell_type": "code",
   "execution_count": 93,
   "metadata": {},
   "outputs": [],
   "source": [
    "l3 = list(set(l2) - set(l))"
   ]
  },
  {
   "cell_type": "code",
   "execution_count": 94,
   "metadata": {},
   "outputs": [
    {
     "data": {
      "text/plain": [
       "5876"
      ]
     },
     "execution_count": 94,
     "metadata": {},
     "output_type": "execute_result"
    }
   ],
   "source": [
    "len(l3)"
   ]
  },
  {
   "cell_type": "code",
   "execution_count": 95,
   "metadata": {},
   "outputs": [
    {
     "data": {
      "text/plain": [
       "171"
      ]
     },
     "execution_count": 95,
     "metadata": {},
     "output_type": "execute_result"
    }
   ],
   "source": [
    "len(l) - len(l2)"
   ]
  },
  {
   "cell_type": "code",
   "execution_count": 88,
   "metadata": {},
   "outputs": [
    {
     "name": "stdout",
     "output_type": "stream",
     "text": [
      "(1, 488846200)\n"
     ]
    }
   ],
   "source": [
    "for i in l:\n",
    "    print(i)\n",
    "    break"
   ]
  },
  {
   "cell_type": "code",
   "execution_count": 91,
   "metadata": {},
   "outputs": [
    {
     "data": {
      "text/plain": [
       "True"
      ]
     },
     "execution_count": 91,
     "metadata": {},
     "output_type": "execute_result"
    }
   ],
   "source": [
    "(1, 488846200) not in l3"
   ]
  },
  {
   "cell_type": "code",
   "execution_count": 92,
   "metadata": {},
   "outputs": [
    {
     "data": {
      "text/plain": [
       "{1, 2, 3}"
      ]
     },
     "execution_count": 92,
     "metadata": {},
     "output_type": "execute_result"
    }
   ],
   "source": [
    "{1,2,3,4} - {4,5,6,7}"
   ]
  },
  {
   "cell_type": "code",
   "execution_count": 169,
   "metadata": {},
   "outputs": [
    {
     "data": {
      "application/vnd.jupyter.widget-view+json": {
       "model_id": "bd8874d715f64672b45f5ddc0d6ddec3",
       "version_major": 2,
       "version_minor": 0
      },
      "text/plain": [
       "HBox(children=(IntProgress(value=0, description='OPT: building index', max=50, style=ProgressStyle(description…"
      ]
     },
     "metadata": {},
     "output_type": "display_data"
    },
    {
     "name": "stdout",
     "output_type": "stream",
     "text": [
      "\n"
     ]
    },
    {
     "data": {
      "application/vnd.jupyter.widget-view+json": {
       "model_id": "1f4b3c2072454eec8ded03dad0571035",
       "version_major": 2,
       "version_minor": 0
      },
      "text/plain": [
       "HBox(children=(IntProgress(value=0, description='OPT', max=50, style=ProgressStyle(description_width='initial'…"
      ]
     },
     "metadata": {},
     "output_type": "display_data"
    },
    {
     "name": "stdout",
     "output_type": "stream",
     "text": [
      "4\n",
      "0\n",
      "5\n",
      "2\n",
      "6\n",
      "9\n",
      "7\n",
      "4\n",
      "1\n",
      "0\n",
      "3\n",
      "9\n",
      "7\n",
      "8\n",
      "2\n",
      "0\n",
      "1\n",
      "3\n",
      "7\n",
      "6\n",
      "4\n",
      "3\n",
      "2\n",
      "0\n",
      "4\n",
      "9\n",
      "5\n",
      "6\n",
      "\n"
     ]
    },
    {
     "data": {
      "text/plain": [
       "0.44"
      ]
     },
     "execution_count": 169,
     "metadata": {},
     "output_type": "execute_result"
    }
   ],
   "source": [
    "belady_opt(bt, 3) #new"
   ]
  },
  {
   "cell_type": "code",
   "execution_count": 137,
   "metadata": {},
   "outputs": [
    {
     "data": {
      "text/plain": [
       "55"
      ]
     },
     "execution_count": 137,
     "metadata": {},
     "output_type": "execute_result"
    }
   ],
   "source": [
    "len('''4\n",
    "0\n",
    "5\n",
    "2\n",
    "6\n",
    "9\n",
    "7\n",
    "4\n",
    "1\n",
    "0\n",
    "3\n",
    "9\n",
    "7\n",
    "8\n",
    "2\n",
    "0\n",
    "1\n",
    "3\n",
    "7\n",
    "6\n",
    "4\n",
    "3\n",
    "2\n",
    "0\n",
    "4\n",
    "9\n",
    "5\n",
    "6''')\n"
   ]
  },
  {
   "cell_type": "code",
   "execution_count": 186,
   "metadata": {},
   "outputs": [
    {
     "data": {
      "application/vnd.jupyter.widget-view+json": {
       "model_id": "db5b94f0e6ef4f75a5c3a9d649c9e383",
       "version_major": 2,
       "version_minor": 0
      },
      "text/plain": [
       "HBox(children=(IntProgress(value=0, description='OPT: building index', max=50, style=ProgressStyle(description…"
      ]
     },
     "metadata": {},
     "output_type": "display_data"
    },
    {
     "name": "stdout",
     "output_type": "stream",
     "text": [
      "\n"
     ]
    },
    {
     "data": {
      "application/vnd.jupyter.widget-view+json": {
       "model_id": "a040f35358ba4ee99fcd0d201ea094b5",
       "version_major": 2,
       "version_minor": 0
      },
      "text/plain": [
       "HBox(children=(IntProgress(value=0, description='OPT', max=50, style=ProgressStyle(description_width='initial'…"
      ]
     },
     "metadata": {},
     "output_type": "display_data"
    },
    {
     "name": "stdout",
     "output_type": "stream",
     "text": [
      "here\n",
      "here\n",
      "here\n",
      "here\n",
      "here\n",
      "here\n",
      "here\n",
      "here\n",
      "here\n",
      "here\n",
      "here\n",
      "here\n",
      "here\n",
      "here\n",
      "here\n",
      "here\n",
      "here\n",
      "\r"
     ]
    },
    {
     "ename": "KeyError",
     "evalue": "2",
     "output_type": "error",
     "traceback": [
      "\u001b[1;31m---------------------------------------------------------------------------\u001b[0m",
      "\u001b[1;31mKeyError\u001b[0m                                  Traceback (most recent call last)",
      "\u001b[1;32m<ipython-input-186-54f7347fa210>\u001b[0m in \u001b[0;36m<module>\u001b[1;34m()\u001b[0m\n\u001b[1;32m----> 1\u001b[1;33m \u001b[0mbelady_opt\u001b[0m\u001b[1;33m(\u001b[0m\u001b[0mbt\u001b[0m\u001b[1;33m,\u001b[0m \u001b[1;36m3\u001b[0m\u001b[1;33m)\u001b[0m \u001b[1;31m#old\u001b[0m\u001b[1;33m\u001b[0m\u001b[0m\n\u001b[0m",
      "\u001b[1;32m<ipython-input-185-cde4103e72a5>\u001b[0m in \u001b[0;36mbelady_opt\u001b[1;34m(blocktrace, frame)\u001b[0m\n\u001b[0;32m     36\u001b[0m                     \u001b[0mevictBlock\u001b[0m \u001b[1;33m=\u001b[0m \u001b[0mblocktrace\u001b[0m\u001b[1;33m[\u001b[0m\u001b[0mmaxIndex\u001b[0m\u001b[1;33m]\u001b[0m\u001b[1;33m\u001b[0m\u001b[0m\n\u001b[0;32m     37\u001b[0m                     \u001b[0mlatestIndex\u001b[0m\u001b[1;33m.\u001b[0m\u001b[0mremove\u001b[0m\u001b[1;33m(\u001b[0m\u001b[0mmaxIndex\u001b[0m\u001b[1;33m)\u001b[0m\u001b[1;33m\u001b[0m\u001b[0m\n\u001b[1;32m---> 38\u001b[1;33m                     \u001b[0mC\u001b[0m\u001b[1;33m.\u001b[0m\u001b[0mremove\u001b[0m\u001b[1;33m(\u001b[0m\u001b[0mevictBlock\u001b[0m\u001b[1;33m)\u001b[0m\u001b[1;33m\u001b[0m\u001b[0m\n\u001b[0m\u001b[0;32m     39\u001b[0m \u001b[1;33m\u001b[0m\u001b[0m\n\u001b[0;32m     40\u001b[0m             \u001b[1;31m#insertion\u001b[0m\u001b[1;33m\u001b[0m\u001b[1;33m\u001b[0m\u001b[0m\n",
      "\u001b[1;31mKeyError\u001b[0m: 2"
     ]
    }
   ],
   "source": [
    "belady_opt(bt, 3) #old"
   ]
  },
  {
   "cell_type": "code",
   "execution_count": 135,
   "metadata": {},
   "outputs": [
    {
     "data": {
      "text/plain": [
       "67"
      ]
     },
     "execution_count": 135,
     "metadata": {},
     "output_type": "execute_result"
    }
   ],
   "source": [
    "len('''4\n",
    "0\n",
    "5\n",
    "2\n",
    "5\n",
    "6\n",
    "9\n",
    "7\n",
    "9\n",
    "1\n",
    "6\n",
    "0\n",
    "3\n",
    "9\n",
    "4\n",
    "9\n",
    "4\n",
    "8\n",
    "2\n",
    "0\n",
    "1\n",
    "2\n",
    "3\n",
    "7\n",
    "6\n",
    "7\n",
    "8\n",
    "3\n",
    "0\n",
    "7\n",
    "4\n",
    "9\n",
    "5\n",
    "6''')"
   ]
  },
  {
   "cell_type": "code",
   "execution_count": 162,
   "metadata": {},
   "outputs": [],
   "source": [
    "set3 = {1,2,3,4,5,65,7,8,9,9}"
   ]
  },
  {
   "cell_type": "code",
   "execution_count": 163,
   "metadata": {},
   "outputs": [
    {
     "data": {
      "text/plain": [
       "{1, 2, 3, 4, 5, 7, 8, 9, 65}"
      ]
     },
     "execution_count": 163,
     "metadata": {},
     "output_type": "execute_result"
    }
   ],
   "source": [
    "set3"
   ]
  },
  {
   "cell_type": "code",
   "execution_count": 165,
   "metadata": {},
   "outputs": [
    {
     "data": {
      "text/plain": [
       "[4]"
      ]
     },
     "execution_count": 165,
     "metadata": {},
     "output_type": "execute_result"
    }
   ],
   "source": [
    "random.sample(set3,1)"
   ]
  },
  {
   "cell_type": "code",
   "execution_count": 172,
   "metadata": {},
   "outputs": [],
   "source": [
    "se = set()\n"
   ]
  },
  {
   "cell_type": "code",
   "execution_count": 174,
   "metadata": {},
   "outputs": [
    {
     "name": "stdout",
     "output_type": "stream",
     "text": [
      "set()\n"
     ]
    }
   ],
   "source": [
    "print(se)"
   ]
  },
  {
   "cell_type": "code",
   "execution_count": 175,
   "metadata": {},
   "outputs": [],
   "source": [
    "for i in se:\n",
    "    print(i)"
   ]
  },
  {
   "cell_type": "code",
   "execution_count": 9,
   "metadata": {},
   "outputs": [],
   "source": [
    "maxpos = 1000000000000\n",
    "\n",
    "sampling_freq = 1000 # number of samples skipped\n",
    "eviction = 100       # number of blocks evicted\n",
    "cache_size = 500    # default cache size\n",
    "\n",
    "def populateData(LFUDict, LRUQ, C, D):\n",
    "    return 0\n",
    "\n",
    "#shehbaz\n",
    "def belady_opttt5(blocktrace, frame):\n",
    "    global maxpos\n",
    "    OPT = defaultdict(deque)\n",
    "    D = defaultdict(int)\n",
    "    LFUDict = defaultdict(int)\n",
    "    LRUQ = []\n",
    "\n",
    "    for i, block in enumerate(tqdm(blocktrace, desc=\"OPT: building index\")):\n",
    "        OPT[block].append(i)\n",
    "\n",
    "    hit, miss = 0, 0\n",
    "\n",
    "    C = set()\n",
    "    count=0\n",
    "    seq_number = 0\n",
    "    for block in tqdm(blocktrace, desc=\"OPT\"):\n",
    "        LFUDict[block] +=1\n",
    "\n",
    "        if len(OPT[block]) is not 0 and OPT[block][0] == seq_number:\n",
    "            OPT[block].popleft()\n",
    "#       print (C)\n",
    "        if block in C:\n",
    "            hit+=1\n",
    "            LRUQ.remove(block)\n",
    "            LRUQ.append(block)\n",
    "            if seq_number in D:\n",
    "                del D[seq_number]\n",
    "                if len(OPT[block]) is not 0:\n",
    "                    D[OPT[block][0]] = block\n",
    "                    OPT[block].popleft()\n",
    "                else:\n",
    "                    D[maxpos] = block\n",
    "                    maxpos+=1\n",
    "        else:\n",
    "            miss+=1\n",
    "            if len(C) == frame:\n",
    "                if(len(D) != 0):\n",
    "                    evictpos = max(D)\n",
    "                    C.remove(D[evictpos])\n",
    "                    LRUQ.remove(D[evictpos])\n",
    "                    del D[evictpos]\n",
    "            if len(OPT[block]) is not 0:\n",
    "                D[OPT[block][0]] = block\n",
    "                OPT[block].popleft()\n",
    "            else:\n",
    "                D[maxpos] = block\n",
    "                maxpos+=1\n",
    "            C.add(block)\n",
    "            LRUQ.append(block)\n",
    "            if (seq_number % sampling_freq +1 == sampling_freq):\n",
    "                populateData(LFUDict, LRUQ, C, D)\n",
    "        seq_number += 1\n",
    "\n",
    "    hitrate = hit / (hit + miss)\n",
    "    #print(hitrate)\n",
    "    return hitrate"
   ]
  },
  {
   "cell_type": "code",
   "execution_count": 11,
   "metadata": {},
   "outputs": [
    {
     "data": {
      "application/vnd.jupyter.widget-view+json": {
       "model_id": "fb2f5c78c6104eaca45dea1f9a700a40",
       "version_major": 2,
       "version_minor": 0
      },
      "text/plain": [
       "HBox(children=(IntProgress(value=0, description='OPT: building index', max=10000, style=ProgressStyle(descript…"
      ]
     },
     "metadata": {},
     "output_type": "display_data"
    },
    {
     "name": "stdout",
     "output_type": "stream",
     "text": [
      "\n"
     ]
    },
    {
     "data": {
      "application/vnd.jupyter.widget-view+json": {
       "model_id": "57c9605b367445b585a3144c89393ff7",
       "version_major": 2,
       "version_minor": 0
      },
      "text/plain": [
       "HBox(children=(IntProgress(value=0, description='OPT', max=10000, style=ProgressStyle(description_width='initi…"
      ]
     },
     "metadata": {},
     "output_type": "display_data"
    },
    {
     "name": "stdout",
     "output_type": "stream",
     "text": [
      "\n"
     ]
    },
    {
     "data": {
      "text/plain": [
       "0.0793"
      ]
     },
     "execution_count": 11,
     "metadata": {},
     "output_type": "execute_result"
    }
   ],
   "source": [
    "belady_opttt5(blocktrace, 500)"
   ]
  },
  {
   "cell_type": "code",
   "execution_count": null,
   "metadata": {},
   "outputs": [],
   "source": []
  },
  {
   "cell_type": "code",
   "execution_count": null,
   "metadata": {},
   "outputs": [],
   "source": []
  },
  {
   "cell_type": "code",
   "execution_count": null,
   "metadata": {},
   "outputs": [],
   "source": []
  },
  {
   "cell_type": "code",
   "execution_count": null,
   "metadata": {},
   "outputs": [],
   "source": []
  },
  {
   "cell_type": "code",
   "execution_count": null,
   "metadata": {},
   "outputs": [],
   "source": []
  },
  {
   "cell_type": "code",
   "execution_count": null,
   "metadata": {},
   "outputs": [],
   "source": []
  },
  {
   "cell_type": "code",
   "execution_count": 232,
   "metadata": {},
   "outputs": [],
   "source": [
    "def belady_opttt2(blocktrace, frame):\n",
    "    \n",
    "    C = set()\n",
    "    hit, miss = 0, 0\n",
    "    \n",
    "    indexer = defaultdict(deque)\n",
    "    futureIndex = set()\n",
    "    \n",
    "    #build index\n",
    "    for i, block in enumerate(blocktrace):\n",
    "        indexer[block].append(i)\n",
    "    \n",
    "    \n",
    "    for block in blocktrace:\n",
    "        \n",
    "        if block in C:\n",
    "            try:\n",
    "                futureIndex.remove(indexer[block][0])\n",
    "                indexer[block].popleft()\n",
    "                futureIndex.add(indexer[block][0])\n",
    "            except:\n",
    "                pass\n",
    "            hit += 1\n",
    "            #print(block, '\\t', C, '\\t', futureIndex)\n",
    "\n",
    "        else:\n",
    "            miss += 1\n",
    "            if len(C) == frame:\n",
    "                if len(futureIndex) < frame:\n",
    "                    evictBlock = random.choice([i for i in C if len(indexer[i]) == 0]) \n",
    "                    C.remove(evictBlock)\n",
    "                else:\n",
    "                    C.remove(blocktrace[max(futureIndex)])\n",
    "                    futureIndex.remove(max(futureIndex))\n",
    "\n",
    "            C.add(block)\n",
    "            indexer[block].popleft()\n",
    "            try:\n",
    "                futureIndex.add(indexer[block][0])\n",
    "            except:\n",
    "                pass\n",
    "            #print(block, '\\t', C, '\\t', futureIndex, '\\t-----------------------------')\n",
    "    hitrate = hit / (hit + miss)\n",
    "    return hitrate"
   ]
  },
  {
   "cell_type": "code",
   "execution_count": 243,
   "metadata": {},
   "outputs": [
    {
     "name": "stdout",
     "output_type": "stream",
     "text": [
      "Requirement already satisfied: sortedcontainers in c:\\programdata\\anaconda3\\lib\\site-packages (1.5.10)\n"
     ]
    },
    {
     "name": "stderr",
     "output_type": "stream",
     "text": [
      "distributed 1.21.8 requires msgpack, which is not installed.\n",
      "You are using pip version 10.0.1, however version 18.1 is available.\n",
      "You should consider upgrading via the 'python -m pip install --upgrade pip' command.\n"
     ]
    }
   ],
   "source": [
    "!pip install sortedcontainers"
   ]
  },
  {
   "cell_type": "code",
   "execution_count": 244,
   "metadata": {},
   "outputs": [],
   "source": [
    "import sortedcontainers"
   ]
  },
  {
   "cell_type": "code",
   "execution_count": 304,
   "metadata": {},
   "outputs": [],
   "source": [
    "def belady_opttt3(blocktrace, frame):\n",
    "    \n",
    "    C = set()\n",
    "    hit, miss = 0, 0\n",
    "    \n",
    "    indexer = defaultdict(deque)\n",
    "    futureIndex = SortedList()\n",
    "    \n",
    "    #build index\n",
    "    for i, block in enumerate(blocktrace):\n",
    "        indexer[block].append(i)\n",
    "    \n",
    "    \n",
    "    for block in blocktrace:\n",
    "        \n",
    "        if block in C:\n",
    "            try:\n",
    "                futureIndex.remove(indexer[block][0])\n",
    "                indexer[block].popleft()\n",
    "                futureIndex.add(indexer[block][0])\n",
    "            except:\n",
    "                pass\n",
    "            hit += 1\n",
    "            #print(block, '\\t', C, '\\t', futureIndex)\n",
    "\n",
    "        else:\n",
    "            miss += 1\n",
    "            if len(C) == frame:\n",
    "                if len(futureIndex) < frame:\n",
    "                    evictBlock = random.choice([i for i in C if len(indexer[i]) == 0]) \n",
    "                    C.remove(evictBlock)\n",
    "                else:\n",
    "                    C.remove(blocktrace[futureIndex.pop()])\n",
    "\n",
    "            C.add(block)\n",
    "            indexer[block].popleft()\n",
    "            try:\n",
    "                futureIndex.add(indexer[block][0])\n",
    "            except:\n",
    "                pass\n",
    "            #print(block, '\\t', C, '\\t', futureIndex, '\\t-----------------------------')\n",
    "    hitrate = hit / (hit + miss)\n",
    "    return hitrate"
   ]
  },
  {
   "cell_type": "code",
   "execution_count": 305,
   "metadata": {},
   "outputs": [
    {
     "data": {
      "text/plain": [
       "0.44"
      ]
     },
     "execution_count": 305,
     "metadata": {},
     "output_type": "execute_result"
    }
   ],
   "source": [
    "belady_opttt3(bt,3)"
   ]
  },
  {
   "cell_type": "code",
   "execution_count": 306,
   "metadata": {},
   "outputs": [],
   "source": [
    "def belady_opttt4(blocktrace, frame):\n",
    "    \n",
    "    C = set()\n",
    "    hit, miss = 0, 0\n",
    "    \n",
    "    indexer = defaultdict(deque)\n",
    "    futureIndex = OrderedDict()\n",
    "    \n",
    "    #build index\n",
    "    for i, block in enumerate(blocktrace):\n",
    "        indexer[block].append(i)\n",
    "    \n",
    "    \n",
    "    for block in blocktrace:\n",
    "        \n",
    "        if block in C:\n",
    "            try:\n",
    "                futureIndex.move_to_end(block)\n",
    "                futureIndex.popitem()\n",
    "                indexer[block].popleft()\n",
    "                futureIndex[block] = indexer[block][0]\n",
    "                futureIndex = OrderedDict(sorted(futureIndex.items(), key=lambda t: t[1]))\n",
    "            except:\n",
    "                pass\n",
    "            hit += 1\n",
    "            #print(block, '\\t', C, '\\t', futureIndex)\n",
    "\n",
    "        else:\n",
    "            miss += 1\n",
    "            if len(C) == frame:\n",
    "                if len(futureIndex) != frame:\n",
    "                    evictBlock = random.choice([i for i in C if len(indexer[i]) == 0]) \n",
    "                    C.remove(evictBlock)\n",
    "                else:\n",
    "                    C.remove(blocktrace[futureIndex.popitem()[1]])\n",
    "\n",
    "            C.add(block)\n",
    "            indexer[block].popleft()\n",
    "            try:\n",
    "                futureIndex[block] = indexer[block][0]\n",
    "                futureIndex = OrderedDict(sorted(futureIndex.items(), key=lambda t: t[1]))\n",
    "            except:\n",
    "                pass\n",
    "            #print(block, '\\t', C, '\\t', futureIndex, '\\t-----------------------------')\n",
    "    hitrate = hit / (hit + miss)\n",
    "    return hitrate"
   ]
  },
  {
   "cell_type": "code",
   "execution_count": 307,
   "metadata": {},
   "outputs": [
    {
     "data": {
      "text/plain": [
       "0.44"
      ]
     },
     "execution_count": 307,
     "metadata": {},
     "output_type": "execute_result"
    }
   ],
   "source": [
    "belady_opttt4(bt, 3)"
   ]
  },
  {
   "cell_type": "code",
   "execution_count": 301,
   "metadata": {},
   "outputs": [
    {
     "data": {
      "text/plain": [
       "17"
      ]
     },
     "execution_count": 301,
     "metadata": {},
     "output_type": "execute_result"
    }
   ],
   "source": [
    "hit"
   ]
  },
  {
   "cell_type": "code",
   "execution_count": 302,
   "metadata": {},
   "outputs": [
    {
     "data": {
      "text/plain": [
       "33"
      ]
     },
     "execution_count": 302,
     "metadata": {},
     "output_type": "execute_result"
    }
   ],
   "source": [
    "miss"
   ]
  },
  {
   "cell_type": "code",
   "execution_count": 303,
   "metadata": {},
   "outputs": [
    {
     "data": {
      "text/plain": [
       "30"
      ]
     },
     "execution_count": 303,
     "metadata": {},
     "output_type": "execute_result"
    }
   ],
   "source": [
    "miss2"
   ]
  },
  {
   "cell_type": "code",
   "execution_count": 290,
   "metadata": {},
   "outputs": [
    {
     "data": {
      "text/plain": [
       "0.44"
      ]
     },
     "execution_count": 290,
     "metadata": {},
     "output_type": "execute_result"
    }
   ],
   "source": [
    "belady_opttt(bt,3)"
   ]
  },
  {
   "cell_type": "code",
   "execution_count": 225,
   "metadata": {},
   "outputs": [],
   "source": [
    "def belady_opttt(blocktrace, frame):\n",
    "    \n",
    "    C = set()\n",
    "    hit, miss = 0, 0\n",
    "    \n",
    "    indexer = defaultdict(deque)\n",
    "    futureIndex = deque()\n",
    "    \n",
    "    #build index\n",
    "    for i, block in enumerate(blocktrace):\n",
    "        indexer[block].append(i)\n",
    "    \n",
    "    \n",
    "    for block in blocktrace:\n",
    "        \n",
    "        if block in C:\n",
    "            try:\n",
    "                futureIndex.remove(indexer[block][0])\n",
    "                indexer[block].popleft()\n",
    "                futureIndex.append(indexer[block][0])\n",
    "            except:\n",
    "                pass\n",
    "            hit += 1\n",
    "            #print(block, '\\t', C, '\\t', futureIndex)\n",
    "\n",
    "        else:\n",
    "            miss += 1\n",
    "            if len(C) == frame:\n",
    "                if len(futureIndex) < frame:\n",
    "                    evictBlock = random.choice([i for i in C if len(indexer[i]) == 0]) \n",
    "                    C.remove(evictBlock)\n",
    "                else:\n",
    "                    C.remove(blocktrace[max(futureIndex)])\n",
    "                    futureIndex.remove(max(futureIndex))\n",
    "\n",
    "            C.add(block)\n",
    "            indexer[block].popleft()\n",
    "            try:\n",
    "                futureIndex.append(indexer[block][0])\n",
    "            except:\n",
    "                pass\n",
    "            #print(block, '\\t', C, '\\t', futureIndex, '\\t-----------------------------')\n",
    "    hitrate = hit / (hit + miss)\n",
    "    return hitrate"
   ]
  },
  {
   "cell_type": "code",
   "execution_count": 189,
   "metadata": {},
   "outputs": [
    {
     "name": "stdout",
     "output_type": "stream",
     "text": [
      "jaaysa\n"
     ]
    }
   ],
   "source": [
    "try:\n",
    "    print(\"jaaysa\")\n",
    "    print(fdfdfd)\n",
    "    print(ffsfs)\n",
    "    print(\"fdfdfd\")\n",
    "except:\n",
    "    pass"
   ]
  },
  {
   "cell_type": "code",
   "execution_count": 226,
   "metadata": {},
   "outputs": [
    {
     "data": {
      "text/plain": [
       "0.44"
      ]
     },
     "execution_count": 226,
     "metadata": {},
     "output_type": "execute_result"
    }
   ],
   "source": [
    "belady_opttt(bt, 3)"
   ]
  },
  {
   "cell_type": "code",
   "execution_count": 34,
   "metadata": {},
   "outputs": [],
   "source": [
    "setup = '''\n",
    "\n",
    "from tqdm import tqdm_notebook as tqdm \n",
    "import numpy as np\n",
    "from collections import deque, defaultdict, OrderedDict\n",
    "import timeit\n",
    "import pandas as pd\n",
    "import random\n",
    "from sortedcontainers import SortedList\n",
    "\n",
    "df = pd.read_csv('cheetah.cs.fiu.edu-110108-113008.1.blkparse', sep=' ', header=None)\n",
    "df.columns = ['timestamp','pid','pname','blockNo', 'blockSize', 'readOrWrite', 'bdMajor', 'bdMinor', 'hash']\n",
    "blocktrace = df['blockNo'].tolist()\n",
    "\n",
    "maxpos = 1000000000000\n",
    "\n",
    "sampling_freq = 1000 # number of samples skipped\n",
    "eviction = 100       # number of blocks evicted\n",
    "cache_size = 500    # default cache size\n",
    "\n",
    "def populateData(LFUDict, LRUQ, C, D):\n",
    "    return 0\n",
    "\n",
    "def getFurthestAccessBlock(C, OPT):\n",
    "    maxAccessPosition = -1\n",
    "    maxAccessBlock = -1\n",
    "    for cached_block in C:\n",
    "        if len(OPT[cached_block]) is 0:\n",
    "            return cached_block            \n",
    "    for cached_block in C:\n",
    "        if OPT[cached_block][0] > maxAccessPosition:\n",
    "            maxAccessPosition = OPT[cached_block][0]\n",
    "            maxAccessBlock = cached_block\n",
    "    return maxAccessBlock\n",
    "\n",
    "def belady_opt(blocktrace, frame):\n",
    "    OPT = defaultdict(deque)\n",
    "\n",
    "    for i, block in enumerate(tqdm(blocktrace, desc=\"OPT: building index\")):\n",
    "        OPT[block].append(i)    \n",
    "\n",
    "    #print (\"created OPT dictionary\")    \n",
    "    hit, miss = 0, 0\n",
    "    C = set()\n",
    "    \n",
    "\n",
    "    for block in tqdm(blocktrace, desc=\"OPT\"):\n",
    "\n",
    "        if block in C:\n",
    "            #OPT[block] = OPT[block][1:]\n",
    "            OPT[block].popleft()\n",
    "            hit+=1\n",
    "            #print('hit' + str(block))\n",
    "            #print(OPT)\n",
    "        else:\n",
    "            #print('miss' + str(block))\n",
    "            miss+=1\n",
    "            if len(C) == frame:\n",
    "                fblock = getFurthestAccessBlock(C, OPT)\n",
    "                assert(fblock != -1)\n",
    "                C.remove(fblock)\n",
    "            C.add(block)\n",
    "            #OPT[block] = OPT[block][1:]\n",
    "            #print(OPT)\n",
    "            OPT[block].popleft()\n",
    "            #print(block)\n",
    "    #print (\"hit count\" + str(hit_count))\n",
    "        #print(C)\n",
    "    #print (\"miss count\" + str(miss_count))\n",
    "    hitrate = hit / (hit + miss)\n",
    "    #print(hitrate)\n",
    "    return hitrate\n",
    "\n",
    "\n",
    "def belady_opttt(blocktrace, frame):\n",
    "    \n",
    "    C = set()\n",
    "    hit, miss = 0, 0\n",
    "    \n",
    "    indexer = defaultdict(deque)\n",
    "    futureIndex = deque()\n",
    "    \n",
    "    #build index\n",
    "    for i, block in enumerate(blocktrace):\n",
    "        indexer[block].append(i)\n",
    "    \n",
    "    \n",
    "    for block in blocktrace:\n",
    "        \n",
    "        if block in C:\n",
    "            try:\n",
    "                futureIndex.remove(indexer[block][0])\n",
    "                indexer[block].popleft()\n",
    "                futureIndex.append(indexer[block][0])\n",
    "            except:\n",
    "                pass\n",
    "            hit += 1\n",
    "            #print(block, '\\t', C, '\\t', futureIndex)\n",
    "\n",
    "        else:\n",
    "            miss += 1\n",
    "            if len(C) == frame:\n",
    "                if len(futureIndex) < frame:\n",
    "                    evictBlock = random.choice([i for i in C if len(indexer[i]) == 0]) \n",
    "                    C.remove(evictBlock)\n",
    "                else:\n",
    "                    C.remove(blocktrace[max(futureIndex)])\n",
    "                    futureIndex.remove(max(futureIndex))\n",
    "\n",
    "            C.add(block)\n",
    "            indexer[block].popleft()\n",
    "            try:\n",
    "                futureIndex.append(indexer[block][0])\n",
    "            except:\n",
    "                pass\n",
    "            #print(block, '\\t', C, '\\t', futureIndex, '\\t-----------------------------')\n",
    "    hitrate = hit / (hit + miss)\n",
    "    return hitrate\n",
    "\n",
    "def belady_opttt2(blocktrace, frame):\n",
    "    \n",
    "    C = set()\n",
    "    hit, miss = 0, 0\n",
    "    \n",
    "    indexer = defaultdict(deque)\n",
    "    futureIndex = set()\n",
    "    \n",
    "    #build index\n",
    "    for i, block in enumerate(blocktrace):\n",
    "        indexer[block].append(i)\n",
    "    \n",
    "    \n",
    "    for block in blocktrace:\n",
    "        \n",
    "        if block in C:\n",
    "            try:\n",
    "                futureIndex.remove(indexer[block][0])\n",
    "                indexer[block].popleft()\n",
    "                futureIndex.add(indexer[block][0])\n",
    "            except:\n",
    "                pass\n",
    "            hit += 1\n",
    "            #print(block, '\\t', C, '\\t', futureIndex)\n",
    "\n",
    "        else:\n",
    "            miss += 1\n",
    "            if len(C) == frame:\n",
    "                if len(futureIndex) < frame:\n",
    "                    evictBlock = random.choice([i for i in C if len(indexer[i]) == 0]) \n",
    "                    C.remove(evictBlock)\n",
    "                else:\n",
    "                    C.remove(blocktrace[max(futureIndex)])\n",
    "                    futureIndex.remove(max(futureIndex))\n",
    "\n",
    "            C.add(block)\n",
    "            indexer[block].popleft()\n",
    "            try:\n",
    "                futureIndex.add(indexer[block][0])\n",
    "            except:\n",
    "                pass\n",
    "            #print(block, '\\t', C, '\\t', futureIndex, '\\t-----------------------------')\n",
    "    hitrate = hit / (hit + miss)\n",
    "    return hitrate\n",
    "\n",
    "def belady_opttt3(blocktrace, frame):\n",
    "    \n",
    "    C = set()\n",
    "    hit, miss = 0, 0\n",
    "    \n",
    "    indexer = defaultdict(deque)\n",
    "    futureIndex = SortedList()\n",
    "    \n",
    "    #build index\n",
    "    for i, block in enumerate(blocktrace):\n",
    "        indexer[block].append(i)\n",
    "    \n",
    "    \n",
    "    for block in blocktrace:\n",
    "        \n",
    "        if block in C:\n",
    "            try:\n",
    "                futureIndex.remove(indexer[block][0])\n",
    "                indexer[block].popleft()\n",
    "                futureIndex.add(indexer[block][0])\n",
    "            except:\n",
    "                pass\n",
    "            hit += 1\n",
    "            #print(block, '\\t', C, '\\t', futureIndex)\n",
    "\n",
    "        else:\n",
    "            miss += 1\n",
    "            if len(C) == frame:\n",
    "                if len(futureIndex) < frame:\n",
    "                    evictBlock = random.choice([i for i in C if len(indexer[i]) == 0]) \n",
    "                    C.remove(evictBlock)\n",
    "                else:\n",
    "                    C.remove(blocktrace[futureIndex.pop()])\n",
    "\n",
    "            C.add(block)\n",
    "            indexer[block].popleft()\n",
    "            try:\n",
    "                futureIndex.add(indexer[block][0])\n",
    "            except:\n",
    "                pass\n",
    "            #print(block, '\\t', C, '\\t', futureIndex, '\\t-----------------------------')\n",
    "    hitrate = hit / (hit + miss)\n",
    "    return hitrate\n",
    "\n",
    "def belady_opttt4(blocktrace, frame):\n",
    "    \n",
    "    C = set()\n",
    "    hit, miss = 0, 0\n",
    "    \n",
    "    indexer = defaultdict(deque)\n",
    "    futureIndex = OrderedDict()\n",
    "    \n",
    "    #build index\n",
    "    for i, block in enumerate(blocktrace):\n",
    "        indexer[block].append(i)\n",
    "    \n",
    "    \n",
    "    for block in blocktrace:\n",
    "        \n",
    "        if block in C:\n",
    "            try:\n",
    "                futureIndex.move_to_end(block)\n",
    "                futureIndex.popitem()\n",
    "                indexer[block].popleft()\n",
    "                futureIndex[block] = indexer[block][0]\n",
    "                futureIndex = OrderedDict(sorted(futureIndex.items(), key=lambda t: t[1]))\n",
    "            except:\n",
    "                pass\n",
    "            hit += 1\n",
    "            #print(block, '\\t', C, '\\t', futureIndex)\n",
    "\n",
    "        else:\n",
    "            miss += 1\n",
    "            if len(C) == frame:\n",
    "                if len(futureIndex) != frame:\n",
    "                    evictBlock = random.choice([i for i in C if len(indexer[i]) == 0]) \n",
    "                    C.remove(evictBlock)\n",
    "                else:\n",
    "                    C.remove(blocktrace[futureIndex.popitem()[1]])\n",
    "\n",
    "            C.add(block)\n",
    "            indexer[block].popleft()\n",
    "            try:\n",
    "                futureIndex[block] = indexer[block][0]\n",
    "                futureIndex = OrderedDict(sorted(futureIndex.items(), key=lambda t: t[1]))\n",
    "            except:\n",
    "                pass\n",
    "            #print(block, '\\t', C, '\\t', futureIndex, '\\t-----------------------------')\n",
    "    hitrate = hit / (hit + miss)\n",
    "    return hitrate\n",
    "\n",
    "\n",
    "\n",
    "\n",
    "#shehbaz\n",
    "def belady_opttt5(blocktrace, frame):\n",
    "    maxpos = 1000000000\n",
    "    OPT = defaultdict(deque)\n",
    "    D = defaultdict(int)\n",
    "    LFUDict = defaultdict(int)\n",
    "    LRUQ = []\n",
    "\n",
    "    for i, block in enumerate(tqdm(blocktrace, desc=\"OPT: building index\")):\n",
    "        OPT[block].append(i)\n",
    "\n",
    "    hit, miss = 0, 0\n",
    "\n",
    "    C = set()\n",
    "    count=0\n",
    "    seq_number = 0\n",
    "    for block in tqdm(blocktrace, desc=\"OPT\"):\n",
    "        LFUDict[block] +=1\n",
    "\n",
    "        if len(OPT[block]) is not 0 and OPT[block][0] == seq_number:\n",
    "            OPT[block].popleft()\n",
    "\n",
    "        if block in C:\n",
    "            hit+=1\n",
    "            LRUQ.remove(block)\n",
    "            LRUQ.append(block)\n",
    "            if seq_number in D:\n",
    "                del D[seq_number]\n",
    "                if len(OPT[block]) is not 0:\n",
    "                    D[OPT[block][0]] = block\n",
    "                    OPT[block].popleft()\n",
    "                else:\n",
    "                    D[maxpos] = block\n",
    "                    maxpos+=1\n",
    "        else:\n",
    "            miss+=1\n",
    "            if len(C) == frame:\n",
    "                if(len(D) != 0):\n",
    "                    evictpos = max(D)\n",
    "                    C.remove(D[evictpos])\n",
    "                    LRUQ.remove(D[evictpos])\n",
    "                    del D[evictpos]\n",
    "            if len(OPT[block]) is not 0:\n",
    "                D[OPT[block][0]] = block\n",
    "                OPT[block].popleft()\n",
    "            else:\n",
    "                D[maxpos] = block\n",
    "                maxpos+=1\n",
    "            C.add(block)\n",
    "            LRUQ.append(block)\n",
    "            if (seq_number % sampling_freq +1 == sampling_freq):\n",
    "                populateData(LFUDict, LRUQ, C, D)\n",
    "        seq_number += 1\n",
    "\n",
    "    hitrate = hit / (hit + miss)\n",
    "    #print(hitrate)\n",
    "    return hitrate\n",
    "\n",
    "\n",
    "'''"
   ]
  },
  {
   "cell_type": "code",
   "execution_count": 33,
   "metadata": {},
   "outputs": [
    {
     "data": {
      "application/vnd.jupyter.widget-view+json": {
       "model_id": "1cb5fb0b379e4a27b2832675ea9fd9ec",
       "version_major": 2,
       "version_minor": 0
      },
      "text/plain": [
       "HBox(children=(IntProgress(value=0, description='OPT: building index', max=1322890, style=ProgressStyle(descri…"
      ]
     },
     "metadata": {},
     "output_type": "display_data"
    },
    {
     "name": "stdout",
     "output_type": "stream",
     "text": [
      "\n"
     ]
    },
    {
     "data": {
      "application/vnd.jupyter.widget-view+json": {
       "model_id": "602df5fc4dfe4d89bbda6ff68d382c81",
       "version_major": 2,
       "version_minor": 0
      },
      "text/plain": [
       "HBox(children=(IntProgress(value=0, description='OPT', max=1322890, style=ProgressStyle(description_width='ini…"
      ]
     },
     "metadata": {},
     "output_type": "display_data"
    },
    {
     "name": "stdout",
     "output_type": "stream",
     "text": [
      "\n"
     ]
    },
    {
     "data": {
      "text/plain": [
       "119.72681984298691"
      ]
     },
     "execution_count": 33,
     "metadata": {},
     "output_type": "execute_result"
    }
   ],
   "source": [
    "timeit.timeit(setup=setup, stmt=\"belady_opt(blocktrace, 1000)\", number=1)"
   ]
  },
  {
   "cell_type": "code",
   "execution_count": 35,
   "metadata": {
    "scrolled": true
   },
   "outputs": [
    {
     "data": {
      "application/vnd.jupyter.widget-view+json": {
       "model_id": "2c5f81ebdcbf40de863f080cfcce999b",
       "version_major": 2,
       "version_minor": 0
      },
      "text/plain": [
       "HBox(children=(IntProgress(value=0, description='OPT: building index', max=1322890, style=ProgressStyle(descri…"
      ]
     },
     "metadata": {},
     "output_type": "display_data"
    },
    {
     "name": "stdout",
     "output_type": "stream",
     "text": [
      "\n"
     ]
    },
    {
     "data": {
      "application/vnd.jupyter.widget-view+json": {
       "model_id": "8f8e6d105b334d1e9afd5975e4fb0088",
       "version_major": 2,
       "version_minor": 0
      },
      "text/plain": [
       "HBox(children=(IntProgress(value=0, description='OPT', max=1322890, style=ProgressStyle(description_width='ini…"
      ]
     },
     "metadata": {},
     "output_type": "display_data"
    },
    {
     "name": "stdout",
     "output_type": "stream",
     "text": [
      "\n"
     ]
    },
    {
     "data": {
      "text/plain": [
       "34.051546712554114"
      ]
     },
     "execution_count": 35,
     "metadata": {},
     "output_type": "execute_result"
    }
   ],
   "source": [
    "timeit.timeit(setup=setup, stmt=\"belady_opttt5(blocktrace, 1000)\", number=1)"
   ]
  },
  {
   "cell_type": "code",
   "execution_count": null,
   "metadata": {},
   "outputs": [],
   "source": []
  },
  {
   "cell_type": "code",
   "execution_count": null,
   "metadata": {},
   "outputs": [],
   "source": []
  },
  {
   "cell_type": "code",
   "execution_count": null,
   "metadata": {},
   "outputs": [],
   "source": []
  },
  {
   "cell_type": "code",
   "execution_count": null,
   "metadata": {},
   "outputs": [],
   "source": []
  },
  {
   "cell_type": "code",
   "execution_count": null,
   "metadata": {},
   "outputs": [],
   "source": []
  },
  {
   "cell_type": "code",
   "execution_count": null,
   "metadata": {},
   "outputs": [],
   "source": []
  },
  {
   "cell_type": "code",
   "execution_count": null,
   "metadata": {},
   "outputs": [],
   "source": []
  },
  {
   "cell_type": "code",
   "execution_count": null,
   "metadata": {},
   "outputs": [],
   "source": []
  },
  {
   "cell_type": "code",
   "execution_count": 26,
   "metadata": {},
   "outputs": [
    {
     "data": {
      "text/plain": [
       "0.8078052298350542"
      ]
     },
     "execution_count": 26,
     "metadata": {},
     "output_type": "execute_result"
    }
   ],
   "source": [
    "timeit.timeit(setup=setup, stmt=\"belady_opttt(blocktrace, 1000)\", number=1)"
   ]
  },
  {
   "cell_type": "code",
   "execution_count": 27,
   "metadata": {},
   "outputs": [
    {
     "data": {
      "text/plain": [
       "0.8182489240316215"
      ]
     },
     "execution_count": 27,
     "metadata": {},
     "output_type": "execute_result"
    }
   ],
   "source": [
    "timeit.timeit(setup=setup, stmt=\"belady_opttt2(blocktrace, 1000)\", number=1)"
   ]
  },
  {
   "cell_type": "code",
   "execution_count": 245,
   "metadata": {},
   "outputs": [],
   "source": [
    "from sortedcontainers import SortedList"
   ]
  },
  {
   "cell_type": "code",
   "execution_count": 28,
   "metadata": {},
   "outputs": [
    {
     "data": {
      "text/plain": [
       "0.8325303670739572"
      ]
     },
     "execution_count": 28,
     "metadata": {},
     "output_type": "execute_result"
    }
   ],
   "source": [
    "timeit.timeit(setup=setup, stmt=\"belady_opttt3(blocktrace, 1000)\", number=1)"
   ]
  },
  {
   "cell_type": "code",
   "execution_count": 29,
   "metadata": {},
   "outputs": [
    {
     "data": {
      "text/plain": [
       "0.8137763089344503"
      ]
     },
     "execution_count": 29,
     "metadata": {},
     "output_type": "execute_result"
    }
   ],
   "source": [
    "timeit.timeit(setup=setup, stmt=\"belady_opttt4(blocktrace, 1000)\", number=1)"
   ]
  },
  {
   "cell_type": "code",
   "execution_count": 265,
   "metadata": {},
   "outputs": [],
   "source": [
    "d['mittal'] = 4"
   ]
  },
  {
   "cell_type": "code",
   "execution_count": 266,
   "metadata": {},
   "outputs": [
    {
     "data": {
      "text/plain": [
       "OrderedDict([('jay', 3), ('mittal', 4)])"
      ]
     },
     "execution_count": 266,
     "metadata": {},
     "output_type": "execute_result"
    }
   ],
   "source": [
    "d"
   ]
  },
  {
   "cell_type": "code",
   "execution_count": 276,
   "metadata": {},
   "outputs": [],
   "source": [
    "d['k'] = [1,2,3]"
   ]
  },
  {
   "cell_type": "code",
   "execution_count": 278,
   "metadata": {},
   "outputs": [
    {
     "data": {
      "text/plain": [
       "OrderedDict([('jay', 3), ('mittal', 4), ('k', [1, 2, 3])])"
      ]
     },
     "execution_count": 278,
     "metadata": {},
     "output_type": "execute_result"
    }
   ],
   "source": [
    "d"
   ]
  },
  {
   "cell_type": "code",
   "execution_count": 277,
   "metadata": {},
   "outputs": [
    {
     "ename": "TypeError",
     "evalue": "'<' not supported between instances of 'list' and 'int'",
     "output_type": "error",
     "traceback": [
      "\u001b[1;31m---------------------------------------------------------------------------\u001b[0m",
      "\u001b[1;31mTypeError\u001b[0m                                 Traceback (most recent call last)",
      "\u001b[1;32m<ipython-input-277-3fbd9a5f1052>\u001b[0m in \u001b[0;36m<module>\u001b[1;34m()\u001b[0m\n\u001b[1;32m----> 1\u001b[1;33m \u001b[0mOrderedDict\u001b[0m\u001b[1;33m(\u001b[0m\u001b[0msorted\u001b[0m\u001b[1;33m(\u001b[0m\u001b[0md\u001b[0m\u001b[1;33m.\u001b[0m\u001b[0mitems\u001b[0m\u001b[1;33m(\u001b[0m\u001b[1;33m)\u001b[0m\u001b[1;33m,\u001b[0m \u001b[0mkey\u001b[0m\u001b[1;33m=\u001b[0m\u001b[1;32mlambda\u001b[0m \u001b[0mt\u001b[0m\u001b[1;33m:\u001b[0m \u001b[0mt\u001b[0m\u001b[1;33m[\u001b[0m\u001b[1;36m1\u001b[0m\u001b[1;33m]\u001b[0m\u001b[1;33m)\u001b[0m\u001b[1;33m)\u001b[0m\u001b[1;33m\u001b[0m\u001b[0m\n\u001b[0m",
      "\u001b[1;31mTypeError\u001b[0m: '<' not supported between instances of 'list' and 'int'"
     ]
    }
   ],
   "source": [
    "OrderedDict(sorted(d.items(), key=lambda t: t[1]))"
   ]
  },
  {
   "cell_type": "code",
   "execution_count": 284,
   "metadata": {},
   "outputs": [
    {
     "data": {
      "text/plain": [
       "'mittal'"
      ]
     },
     "execution_count": 284,
     "metadata": {},
     "output_type": "execute_result"
    }
   ],
   "source": [
    "d.popitem()[0]"
   ]
  },
  {
   "cell_type": "code",
   "execution_count": 279,
   "metadata": {},
   "outputs": [
    {
     "data": {
      "text/plain": [
       "3"
      ]
     },
     "execution_count": 279,
     "metadata": {},
     "output_type": "execute_result"
    }
   ],
   "source": [
    "len(d)"
   ]
  },
  {
   "cell_type": "code",
   "execution_count": null,
   "metadata": {},
   "outputs": [],
   "source": []
  }
 ],
 "metadata": {
  "kernelspec": {
   "display_name": "Python 3",
   "language": "python",
   "name": "python3"
  },
  "language_info": {
   "codemirror_mode": {
    "name": "ipython",
    "version": 3
   },
   "file_extension": ".py",
   "mimetype": "text/x-python",
   "name": "python",
   "nbconvert_exporter": "python",
   "pygments_lexer": "ipython3",
   "version": "3.6.5"
  }
 },
 "nbformat": 4,
 "nbformat_minor": 2
}
