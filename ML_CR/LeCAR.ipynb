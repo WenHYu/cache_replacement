{
 "cells": [
  {
   "cell_type": "code",
   "execution_count": 79,
   "metadata": {},
   "outputs": [],
   "source": [
    "import numpy as np\n",
    "from collections import deque, defaultdict \n",
    "from tqdm import tqdm_notebook as tqdm"
   ]
  },
  {
   "cell_type": "code",
   "execution_count": 157,
   "metadata": {},
   "outputs": [],
   "source": [
    "frame = 1000\n",
    "C = deque()\n",
    "H_LRU = deque(maxlen=frame)\n",
    "H_LFU = deque(maxlen=frame)\n",
    "W_LFU = 1\n",
    "W_LRU = 1\n",
    "recency = deque()\n",
    "frequency = defaultdict(int)\n",
    "History = deque(maxlen=frame)\n",
    "d = 0.005**(1/frame)\n",
    "lam = 0.45\n",
    "weight = {}\n",
    "W_LFU = 1\n",
    "W_LRU = 1\n",
    "hit,miss = 0,0"
   ]
  },
  {
   "cell_type": "code",
   "execution_count": 158,
   "metadata": {},
   "outputs": [],
   "source": [
    "blocktrace = np.random.randint(5000, size=(10000))"
   ]
  },
  {
   "cell_type": "code",
   "execution_count": 159,
   "metadata": {},
   "outputs": [],
   "source": [
    "LRU = lambda cache: cache[0]"
   ]
  },
  {
   "cell_type": "code",
   "execution_count": 160,
   "metadata": {},
   "outputs": [],
   "source": [
    "def LFU(cache):\n",
    "    global frequency\n",
    "    tempFrequency = {i:j for i,j in frequency.items() if i in cache}\n",
    "    return min(tempFrequency, key=tempFrequency.get)"
   ]
  },
  {
   "cell_type": "code",
   "execution_count": 164,
   "metadata": {},
   "outputs": [],
   "source": [
    "def Lecar(block):\n",
    "    global frame, C, H_LRU, H_LFU, weight, History, hit, miss\n",
    "    \n",
    "    if block in C:\n",
    "        C.remove(block)\n",
    "        C.append(block)\n",
    "        hit += 1\n",
    "    else:\n",
    "        miss += 1\n",
    "        updated_wait(block)\n",
    "        if block in H_LRU:\n",
    "            H_LRU.remove(block)\n",
    "        elif block in H_LFU:\n",
    "            H_LFU.remove(block)\n",
    "        if len(C) == frame:\n",
    "            action = max(weight, key=weight.get)\n",
    "            if action == 'LRU':\n",
    "                #print('LRU')\n",
    "                if len(H_LRU) == frame:\n",
    "                    H_LRU.remove(LRU(H_LRU))\n",
    "                H_LRU.append(LRU(C))\n",
    "                C.remove(LRU(C))\n",
    "                History.append(LRU(C))\n",
    "            else:\n",
    "                #print('LFU')\n",
    "                if len(H_LFU) == frame:\n",
    "                    H_LFU.remove(LRU(H_LFU))\n",
    "                H_LFU.append(LFU(C))\n",
    "                C.remove(LFU(C))\n",
    "                History.append(LFU(C))\n",
    "\n",
    "        C.append(block)"
   ]
  },
  {
   "cell_type": "code",
   "execution_count": 162,
   "metadata": {},
   "outputs": [],
   "source": [
    "def updated_wait(q):\n",
    "    global d, lam, W_LRU, W_LFU\n",
    "    if q in History:\n",
    "        t = len(History) - History.index(q)\n",
    "    else:\n",
    "        t = 0\n",
    "    r = d**t\n",
    "    if q in H_LRU:\n",
    "        W_LFU = W_LFU * np.exp(lam*r)\n",
    "    elif q in H_LFU:\n",
    "        W_LRU = W_LRU * np.exp(lam*r)\n",
    "    weight['LRU']  = W_LRU / (W_LRU + W_LFU)\n",
    "    weight['LFU'] = 1 - weight['LRU']"
   ]
  },
  {
   "cell_type": "code",
   "execution_count": null,
   "metadata": {},
   "outputs": [],
   "source": []
  },
  {
   "cell_type": "code",
   "execution_count": 163,
   "metadata": {},
   "outputs": [
    {
     "data": {
      "application/vnd.jupyter.widget-view+json": {
       "model_id": "eba2fd6a8fca49118272a9095a05cf98",
       "version_major": 2,
       "version_minor": 0
      },
      "text/plain": [
       "HBox(children=(IntProgress(value=0, max=10000), HTML(value='')))"
      ]
     },
     "metadata": {},
     "output_type": "display_data"
    },
    {
     "name": "stdout",
     "output_type": "stream",
     "text": [
      "\n",
      "0.1968888888888889\n"
     ]
    }
   ],
   "source": [
    "for i in tqdm(blocktrace):\n",
    "    frequency[i] += 1\n",
    "    if len(C) == frame:\n",
    "        Lecar(i)\n",
    "    else:\n",
    "        C.append(i)\n",
    "print(hit/(hit+miss))"
   ]
  },
  {
   "cell_type": "code",
   "execution_count": 95,
   "metadata": {},
   "outputs": [],
   "source": []
  },
  {
   "cell_type": "code",
   "execution_count": 52,
   "metadata": {
    "scrolled": true
   },
   "outputs": [
    {
     "data": {
      "text/plain": [
       "array([ 6, 17, 24, 18, 20,  8, 20, 17,  9,  1, 21, 21,  1, 24, 11,  5, 23,\n",
       "       16,  2,  0, 22, 19, 23,  3,  1,  6,  0,  4,  0, 23,  4, 10,  7,  2,\n",
       "        4,  8,  2, 13, 15, 11, 13, 16,  7, 20,  3,  0, 16,  2,  3,  7, 16,\n",
       "        3,  5, 17, 14,  9, 14, 18, 20, 20, 22,  2,  3,  6,  2, 24, 13,  1,\n",
       "       20, 13, 19,  0, 17, 12,  5,  2, 24, 18, 17, 18,  6,  2, 15,  7, 13,\n",
       "       17, 24,  7, 10, 17,  7, 17, 22, 23, 15, 24,  6, 21, 17,  8])"
      ]
     },
     "execution_count": 52,
     "metadata": {},
     "output_type": "execute_result"
    }
   ],
   "source": [
    "blocktrace"
   ]
  },
  {
   "cell_type": "code",
   "execution_count": 29,
   "metadata": {},
   "outputs": [
    {
     "data": {
      "text/plain": [
       "4"
      ]
     },
     "execution_count": 29,
     "metadata": {},
     "output_type": "execute_result"
    }
   ],
   "source": [
    "max(a,b)"
   ]
  },
  {
   "cell_type": "code",
   "execution_count": 119,
   "metadata": {},
   "outputs": [],
   "source": [
    "def LRU2(blocktrace, frame):\n",
    "    cache = set()\n",
    "    recent_block = np.array([], dtype=int)\n",
    "    \n",
    "    hit, miss = 0, 0\n",
    "    \n",
    "    #print(\"block\", \"\\t\\t hit\", \"\\t\\t miss\", \"\\t\\t cache\")\n",
    "    for block in tqdm(blocktrace, desc=\"LRU\", leave=False):\n",
    "    \n",
    "        if block in cache:\n",
    "            recent_block = np.delete(recent_block, np.argwhere(recent_block==block))\n",
    "            recent_block = np.append(recent_block, block)\n",
    "            hit += 1\n",
    "            \n",
    "        \n",
    "        elif len(cache) < frame:\n",
    "            recent_block = np.append(recent_block, block)\n",
    "            cache.add(block)\n",
    "            #miss += 1\n",
    "\n",
    "        else:\n",
    "            cache.remove(recent_block[0])\n",
    "            recent_block = recent_block[1:]\n",
    "            recent_block = np.append(recent_block, block)\n",
    "            cache.add(block)\n",
    "            miss += 1\n",
    "        #print(block, \"\\t\\t\", hit, \"\\t\\t\", miss, \"\\t\\t\", cache)\n",
    "\n",
    "    hitrate = hit / (hit + miss)\n",
    "    #print(\"\\n\\nhitrate: \", hitrate)\n",
    "    return hitrate"
   ]
  },
  {
   "cell_type": "code",
   "execution_count": 156,
   "metadata": {},
   "outputs": [
    {
     "data": {
      "application/vnd.jupyter.widget-view+json": {
       "model_id": "",
       "version_major": 2,
       "version_minor": 0
      },
      "text/plain": [
       "HBox(children=(IntProgress(value=0, description='LRU', max=10000, style=ProgressStyle(description_width='initi…"
      ]
     },
     "metadata": {},
     "output_type": "display_data"
    },
    {
     "name": "stdout",
     "output_type": "stream",
     "text": [
      "\r"
     ]
    },
    {
     "data": {
      "text/plain": [
       "0.21288888888888888"
      ]
     },
     "execution_count": 156,
     "metadata": {},
     "output_type": "execute_result"
    }
   ],
   "source": [
    "LRU2(blocktrace, 1000)"
   ]
  },
  {
   "cell_type": "code",
   "execution_count": null,
   "metadata": {},
   "outputs": [],
   "source": [
    "0.2013006503251626"
   ]
  }
 ],
 "metadata": {
  "kernelspec": {
   "display_name": "Python 3",
   "language": "python",
   "name": "python3"
  },
  "language_info": {
   "codemirror_mode": {
    "name": "ipython",
    "version": 3
   },
   "file_extension": ".py",
   "mimetype": "text/x-python",
   "name": "python",
   "nbconvert_exporter": "python",
   "pygments_lexer": "ipython3",
   "version": "3.6.5"
  }
 },
 "nbformat": 4,
 "nbformat_minor": 2
}
