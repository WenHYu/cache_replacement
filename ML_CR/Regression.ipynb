{
 "cells": [
  {
   "cell_type": "code",
   "execution_count": 319,
   "metadata": {},
   "outputs": [],
   "source": [
    "import numpy as np\n",
    "import pandas as pd\n",
    "from collections import defaultdict, deque, OrderedDict\n",
    "#from tqdm import tqdm\n",
    "from tqdm import tqdm_notebook as tqdm\n",
    "from sklearn.preprocessing import normalize"
   ]
  },
  {
   "cell_type": "code",
   "execution_count": 2,
   "metadata": {
    "scrolled": true
   },
   "outputs": [
    {
     "data": {
      "text/html": [
       "<div>\n",
       "<style scoped>\n",
       "    .dataframe tbody tr th:only-of-type {\n",
       "        vertical-align: middle;\n",
       "    }\n",
       "\n",
       "    .dataframe tbody tr th {\n",
       "        vertical-align: top;\n",
       "    }\n",
       "\n",
       "    .dataframe thead th {\n",
       "        text-align: right;\n",
       "    }\n",
       "</style>\n",
       "<table border=\"1\" class=\"dataframe\">\n",
       "  <thead>\n",
       "    <tr style=\"text-align: right;\">\n",
       "      <th></th>\n",
       "      <th>no</th>\n",
       "      <th>timestamp</th>\n",
       "      <th>pid</th>\n",
       "      <th>pname</th>\n",
       "      <th>bno</th>\n",
       "      <th>bsize</th>\n",
       "      <th>op</th>\n",
       "      <th>dvmajor</th>\n",
       "      <th>dvminor</th>\n",
       "      <th>blockhash</th>\n",
       "    </tr>\n",
       "  </thead>\n",
       "  <tbody>\n",
       "    <tr>\n",
       "      <th>0</th>\n",
       "      <td>0</td>\n",
       "      <td>89966811921625</td>\n",
       "      <td>4257</td>\n",
       "      <td>nfsd</td>\n",
       "      <td>488846200</td>\n",
       "      <td>8</td>\n",
       "      <td>W</td>\n",
       "      <td>6</td>\n",
       "      <td>0</td>\n",
       "      <td>2c4787c7671c2f638777c4ab72859ce1</td>\n",
       "    </tr>\n",
       "    <tr>\n",
       "      <th>1</th>\n",
       "      <td>1</td>\n",
       "      <td>89967003980393</td>\n",
       "      <td>4253</td>\n",
       "      <td>nfsd</td>\n",
       "      <td>508455704</td>\n",
       "      <td>8</td>\n",
       "      <td>W</td>\n",
       "      <td>6</td>\n",
       "      <td>0</td>\n",
       "      <td>88b93b628d84082186026d9da044f173</td>\n",
       "    </tr>\n",
       "    <tr>\n",
       "      <th>2</th>\n",
       "      <td>2</td>\n",
       "      <td>89967004049935</td>\n",
       "      <td>4253</td>\n",
       "      <td>nfsd</td>\n",
       "      <td>508455712</td>\n",
       "      <td>8</td>\n",
       "      <td>W</td>\n",
       "      <td>6</td>\n",
       "      <td>0</td>\n",
       "      <td>b5e9f4e5ab62a4fff5313a606b0ad4e3</td>\n",
       "    </tr>\n",
       "    <tr>\n",
       "      <th>3</th>\n",
       "      <td>3</td>\n",
       "      <td>89967004093615</td>\n",
       "      <td>4253</td>\n",
       "      <td>nfsd</td>\n",
       "      <td>508455720</td>\n",
       "      <td>8</td>\n",
       "      <td>W</td>\n",
       "      <td>6</td>\n",
       "      <td>0</td>\n",
       "      <td>7af5556ad4d45263bcd8358867333dd4</td>\n",
       "    </tr>\n",
       "    <tr>\n",
       "      <th>4</th>\n",
       "      <td>4</td>\n",
       "      <td>89967324150054</td>\n",
       "      <td>4254</td>\n",
       "      <td>nfsd</td>\n",
       "      <td>508500288</td>\n",
       "      <td>8</td>\n",
       "      <td>W</td>\n",
       "      <td>6</td>\n",
       "      <td>0</td>\n",
       "      <td>88b93b628d84082186026d9da044f173</td>\n",
       "    </tr>\n",
       "  </tbody>\n",
       "</table>\n",
       "</div>"
      ],
      "text/plain": [
       "   no       timestamp   pid pname        bno  bsize op  dvmajor  dvminor  \\\n",
       "0   0  89966811921625  4257  nfsd  488846200      8  W        6        0   \n",
       "1   1  89967003980393  4253  nfsd  508455704      8  W        6        0   \n",
       "2   2  89967004049935  4253  nfsd  508455712      8  W        6        0   \n",
       "3   3  89967004093615  4253  nfsd  508455720      8  W        6        0   \n",
       "4   4  89967324150054  4254  nfsd  508500288      8  W        6        0   \n",
       "\n",
       "                          blockhash  \n",
       "0  2c4787c7671c2f638777c4ab72859ce1  \n",
       "1  88b93b628d84082186026d9da044f173  \n",
       "2  b5e9f4e5ab62a4fff5313a606b0ad4e3  \n",
       "3  7af5556ad4d45263bcd8358867333dd4  \n",
       "4  88b93b628d84082186026d9da044f173  "
      ]
     },
     "execution_count": 2,
     "metadata": {},
     "output_type": "execute_result"
    }
   ],
   "source": [
    "df = pd.read_csv('smalltrace.csv', sep='\\t')\n",
    "df.columns = ['no','timestamp','pid','pname','bno', 'bsize', 'op', 'dvmajor', 'dvminor', 'blockhash']\n",
    "df.head()"
   ]
  },
  {
   "cell_type": "code",
   "execution_count": 313,
   "metadata": {},
   "outputs": [
    {
     "data": {
      "text/html": [
       "<div>\n",
       "<style scoped>\n",
       "    .dataframe tbody tr th:only-of-type {\n",
       "        vertical-align: middle;\n",
       "    }\n",
       "\n",
       "    .dataframe tbody tr th {\n",
       "        vertical-align: top;\n",
       "    }\n",
       "\n",
       "    .dataframe thead th {\n",
       "        text-align: right;\n",
       "    }\n",
       "</style>\n",
       "<table border=\"1\" class=\"dataframe\">\n",
       "  <thead>\n",
       "    <tr style=\"text-align: right;\">\n",
       "      <th></th>\n",
       "      <th>timestamp</th>\n",
       "      <th>bno</th>\n",
       "    </tr>\n",
       "  </thead>\n",
       "  <tbody>\n",
       "    <tr>\n",
       "      <th>0</th>\n",
       "      <td>89966811921625</td>\n",
       "      <td>488846200</td>\n",
       "    </tr>\n",
       "    <tr>\n",
       "      <th>1</th>\n",
       "      <td>89967003980393</td>\n",
       "      <td>508455704</td>\n",
       "    </tr>\n",
       "    <tr>\n",
       "      <th>2</th>\n",
       "      <td>89967004049935</td>\n",
       "      <td>508455712</td>\n",
       "    </tr>\n",
       "    <tr>\n",
       "      <th>3</th>\n",
       "      <td>89967004093615</td>\n",
       "      <td>508455720</td>\n",
       "    </tr>\n",
       "    <tr>\n",
       "      <th>4</th>\n",
       "      <td>89967324150054</td>\n",
       "      <td>508500288</td>\n",
       "    </tr>\n",
       "  </tbody>\n",
       "</table>\n",
       "</div>"
      ],
      "text/plain": [
       "        timestamp        bno\n",
       "0  89966811921625  488846200\n",
       "1  89967003980393  508455704\n",
       "2  89967004049935  508455712\n",
       "3  89967004093615  508455720\n",
       "4  89967324150054  508500288"
      ]
     },
     "execution_count": 313,
     "metadata": {},
     "output_type": "execute_result"
    }
   ],
   "source": [
    "blocktrace = df[['timestamp', 'bno']].apply(pd.to_numeric)\n",
    "blocktrace.head()"
   ]
  },
  {
   "cell_type": "code",
   "execution_count": 130,
   "metadata": {},
   "outputs": [],
   "source": []
  },
  {
   "cell_type": "code",
   "execution_count": 447,
   "metadata": {},
   "outputs": [],
   "source": [
    "def getFurthestAccessBlock(C, OPT):\n",
    "    maxAccessPosition = -1\n",
    "    maxAccessBlock = -1\n",
    "    for cached_block in C:\n",
    "        if len(OPT[cached_block]) is 0:\n",
    "            return cached_block        \n",
    "    for cached_block in C:\n",
    "        if OPT[cached_block][0] > maxAccessPosition:\n",
    "            maxAccessPosition = OPT[cached_block][0]\n",
    "            maxAccessBlock = cached_block\n",
    "    return maxAccessBlock\n",
    "\n",
    "def belady_opt(blocktrace, frame):\n",
    "    \n",
    "    OPT = defaultdict(deque)\n",
    "    \n",
    "    for i, block in tqdm(blocktrace.iterrows(), desc=\"OPT: building index\"):\n",
    "        OPT[block['bno']].append(i)    \n",
    "    \n",
    "    \n",
    "    hit, miss = 0, 0\n",
    "    C = deque()\n",
    "    evictBlock = deque()\n",
    "    time = deque()\n",
    "    timestamp = OrderedDict()\n",
    "    for i,block in tqdm(blocktrace.iterrows(), desc=\"OPT\"):\n",
    "        OPT[block['bno']].popleft()\n",
    "\n",
    "        if block['bno'] in C:\n",
    "            hit+=1\n",
    "        \n",
    "        else:\n",
    "            miss+=1\n",
    "            if len(C) == frame:\n",
    "                fblock = getFurthestAccessBlock(C, OPT)\n",
    "                assert(fblock != -1)\n",
    "                if miss % 500 == 0:\n",
    "                    evictBlock.append(opt_wrapper(C, OPT))\n",
    "                    time.append(normalize([list(timestamp.values())]).tolist())\n",
    "                C.remove(fblock)\n",
    "                del timestamp[fblock]\n",
    "            C.append(block['bno'])\n",
    "            timestamp[block['bno']] = block['timestamp']\n",
    "            \n",
    "                \n",
    "    hitrate = hit / (hit + miss)\n",
    "    print(hitrate)\n",
    "    return time, evictBlock"
   ]
  },
  {
   "cell_type": "code",
   "execution_count": 448,
   "metadata": {},
   "outputs": [],
   "source": [
    "def opt_wrapper(cache, OPT):\n",
    "    \n",
    "    evictlist = deque()\n",
    "    evictBinary = deque([0]) * len(cache)\n",
    "    cache2 = cache.copy()\n",
    "    for i in range(int(len(cache) * 0.1)):\n",
    "        evict = getFurthestAccessBlock(cache2, OPT)\n",
    "        #print(evict)\n",
    "        evictlist.append(evict)\n",
    "        cache2.remove(evict)\n",
    "    #print(evictlist)\n",
    "    for i, j in enumerate(cache):\n",
    "        if j in evictlist:\n",
    "            evictBinary[i] = 1\n",
    "    \n",
    "    return evictBinary"
   ]
  },
  {
   "cell_type": "code",
   "execution_count": 449,
   "metadata": {
    "scrolled": false
   },
   "outputs": [
    {
     "data": {
      "application/vnd.jupyter.widget-view+json": {
       "model_id": "ee0d260dec7e425e9c8e6ac39675bd9d",
       "version_major": 2,
       "version_minor": 0
      },
      "text/plain": [
       "HBox(children=(IntProgress(value=1, bar_style='info', description='OPT: building index', max=1), HTML(value=''…"
      ]
     },
     "metadata": {},
     "output_type": "display_data"
    },
    {
     "data": {
      "application/vnd.jupyter.widget-view+json": {
       "model_id": "3ff6a921931b481aaabb96877aaa82d6",
       "version_major": 2,
       "version_minor": 0
      },
      "text/plain": [
       "HBox(children=(IntProgress(value=1, bar_style='info', description='OPT', max=1), HTML(value='')))"
      ]
     },
     "metadata": {},
     "output_type": "display_data"
    },
    {
     "name": "stdout",
     "output_type": "stream",
     "text": [
      "0.0793\n"
     ]
    }
   ],
   "source": [
    "time, evictBlock = belady_opt(blocktrace, 500)"
   ]
  },
  {
   "cell_type": "code",
   "execution_count": 492,
   "metadata": {},
   "outputs": [],
   "source": [
    "t = np.array(time)\n",
    "t = t.flatten()\n",
    "t = t.reshape(-1,1)\n",
    "e = np.array(evictBlock)\n",
    "e = e.flatten()\n",
    "#e = e.reshape(-1,1)\n"
   ]
  },
  {
   "cell_type": "code",
   "execution_count": 493,
   "metadata": {},
   "outputs": [
    {
     "data": {
      "text/plain": [
       "(8500, 1)"
      ]
     },
     "execution_count": 493,
     "metadata": {},
     "output_type": "execute_result"
    }
   ],
   "source": [
    "t.shape"
   ]
  },
  {
   "cell_type": "code",
   "execution_count": 494,
   "metadata": {},
   "outputs": [
    {
     "data": {
      "text/plain": [
       "(8500,)"
      ]
     },
     "execution_count": 494,
     "metadata": {},
     "output_type": "execute_result"
    }
   ],
   "source": [
    "e.shape"
   ]
  },
  {
   "cell_type": "code",
   "execution_count": 386,
   "metadata": {},
   "outputs": [],
   "source": [
    "from sklearn.model_selection import train_test_split\n",
    "from sklearn.linear_model import LogisticRegression\n",
    "from sklearn.metrics import accuracy_score\n",
    "from functools import reduce"
   ]
  },
  {
   "cell_type": "code",
   "execution_count": 451,
   "metadata": {},
   "outputs": [],
   "source": [
    "Xtime_ = reduce(lambda x,y: x+y, time)\n",
    "Xtime = reduce(lambda x,y: x+y,Xtime_)"
   ]
  },
  {
   "cell_type": "code",
   "execution_count": 437,
   "metadata": {},
   "outputs": [],
   "source": [
    "Ylabel = reduce(lambda x,y: x+y,evictBlock)"
   ]
  },
  {
   "cell_type": "code",
   "execution_count": 506,
   "metadata": {},
   "outputs": [],
   "source": [
    "X_train, X_test, Y_train, Y_test = train_test_split(t, e ,test_size=0.3, shuffle=True)"
   ]
  },
  {
   "cell_type": "code",
   "execution_count": 507,
   "metadata": {},
   "outputs": [],
   "source": [
    "clf = LogisticRegression().fit(X_train, Y_train)"
   ]
  },
  {
   "cell_type": "code",
   "execution_count": 508,
   "metadata": {},
   "outputs": [
    {
     "data": {
      "text/plain": [
       "0.9003921568627451"
      ]
     },
     "execution_count": 508,
     "metadata": {},
     "output_type": "execute_result"
    }
   ],
   "source": [
    "accuracy_score(Y_test, clf.predict(X_test))"
   ]
  },
  {
   "cell_type": "code",
   "execution_count": 509,
   "metadata": {},
   "outputs": [
    {
     "data": {
      "text/plain": [
       "(5950,)"
      ]
     },
     "execution_count": 509,
     "metadata": {},
     "output_type": "execute_result"
    }
   ],
   "source": [
    "Y_train.shape"
   ]
  },
  {
   "cell_type": "code",
   "execution_count": 510,
   "metadata": {},
   "outputs": [
    {
     "data": {
      "text/plain": [
       "array([[2296,    0],\n",
       "       [ 254,    0]])"
      ]
     },
     "execution_count": 510,
     "metadata": {},
     "output_type": "execute_result"
    }
   ],
   "source": [
    "from sklearn.metrics import confusion_matrix\n",
    "confusion_matrix(Y_test, clf.predict(X_test))"
   ]
  },
  {
   "cell_type": "code",
   "execution_count": null,
   "metadata": {},
   "outputs": [],
   "source": []
  }
 ],
 "metadata": {
  "kernelspec": {
   "display_name": "Python 3",
   "language": "python",
   "name": "python3"
  },
  "language_info": {
   "codemirror_mode": {
    "name": "ipython",
    "version": 3
   },
   "file_extension": ".py",
   "mimetype": "text/x-python",
   "name": "python",
   "nbconvert_exporter": "python",
   "pygments_lexer": "ipython3",
   "version": "3.6.5"
  }
 },
 "nbformat": 4,
 "nbformat_minor": 2
}
